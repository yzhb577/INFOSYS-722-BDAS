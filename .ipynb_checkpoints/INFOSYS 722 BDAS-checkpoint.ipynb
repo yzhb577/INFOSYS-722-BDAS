{
 "cells": [
  {
   "cell_type": "code",
   "execution_count": 92,
   "metadata": {},
   "outputs": [],
   "source": [
    "import findspark\n",
    "findspark.init('/home/ubuntu/spark-2.1.1-bin-hadoop2.7')\n",
    "import pyspark\n",
    "from pyspark.sql import SparkSession\n",
    "spark = SparkSession.builder.appName('basics').getOrCreate()"
   ]
  },
  {
   "cell_type": "code",
   "execution_count": 93,
   "metadata": {},
   "outputs": [],
   "source": [
    "CaptureRates = spark.read.format(\"csv\").option(\"header\", \"true\").load('Recycling_Capture_Rates.csv')"
   ]
  },
  {
   "cell_type": "code",
   "execution_count": 94,
   "metadata": {},
   "outputs": [],
   "source": [
    "DiversionRates = spark.read.format(\"csv\").option(\"header\", \"true\").load('Recycling_Diversion_Rate.csv')"
   ]
  },
  {
   "cell_type": "code",
   "execution_count": 95,
   "metadata": {
    "scrolled": true
   },
   "outputs": [
    {
     "name": "stdout",
     "output_type": "stream",
     "text": [
      "+--------------+--------+----+-----+-------------------+----------------+------------------+\n",
      "|          Zone|District|Year|Month|Capture Rate-Paper |Capture Rate-MGP|Capture Rate-Total|\n",
      "+--------------+--------+----+-----+-------------------+----------------+------------------+\n",
      "|Brooklyn North|   BKN01|2019|    4|        44.90915978|     43.03406183|       44.14676434|\n",
      "|Brooklyn North|   BKN02|2019|    4|        34.19402011|     57.94703135|       41.21369993|\n",
      "|Brooklyn North|   BKN03|2019|    4|        33.52155672|      44.9197311|       38.15593656|\n",
      "|Brooklyn North|   BKN04|2019|    4|        35.21136071|     68.51126005|       48.75075545|\n",
      "|Brooklyn North|   BKN05|2019|    4|        22.26543015|     45.05179138|       31.53012901|\n",
      "|Brooklyn North|   BKN08|2019|    4|         44.4849922|     59.40278854|       50.55041394|\n",
      "|Brooklyn North|   BKN09|2019|    4|         33.9518222|     47.86441581|       39.23629013|\n",
      "|Brooklyn North|   BKN16|2019|    4|        20.28999894|     35.24596668|       26.37094078|\n",
      "|Brooklyn North|   BKN17|2019|    4|        28.44795289|            null|       40.71872785|\n",
      "|Brooklyn South|   BKS06|2019|    4|        46.44228533|     82.99323135|       57.24411317|\n",
      "|Brooklyn South|   BKS07|2019|    4|        48.02766674|     72.45767078|       57.30699859|\n",
      "|Brooklyn South|   BKS10|2019|    4|        52.58350449|     75.44818208|       61.26827305|\n",
      "|Brooklyn South|   BKS11|2019|    4|        45.00126483|     64.76652879|       52.50877253|\n",
      "|Brooklyn South|   BKS12|2019|    4|        47.62293431|     41.96596302|       45.32286828|\n",
      "|Brooklyn South|   BKS13|2019|    4|        40.96474548|     51.48861387|       45.56076913|\n",
      "|Brooklyn South|   BKS14|2019|    4|        38.59031357|     57.62660046|       45.11652552|\n",
      "|Brooklyn South|   BKS15|2019|    4|        46.59808026|     63.11778886|       52.87281759|\n",
      "|Brooklyn South|   BKS18|2019|    4|        38.53540373|      71.6319088|       50.30337863|\n",
      "|         Bronx|    BX01|2019|    4|         19.6327944|     27.89226033|       23.23989963|\n",
      "|         Bronx|    BX02|2019|    4|        33.16471449|     60.18469099|       44.96498092|\n",
      "+--------------+--------+----+-----+-------------------+----------------+------------------+\n",
      "only showing top 20 rows\n",
      "\n"
     ]
    }
   ],
   "source": [
    "CaptureRates.show()"
   ]
  },
  {
   "cell_type": "code",
   "execution_count": 96,
   "metadata": {
    "scrolled": true
   },
   "outputs": [
    {
     "name": "stdout",
     "output_type": "stream",
     "text": [
      "+-------+-------------+--------+-----------------+-----------------+-------------------+------------------+------------------+\n",
      "|summary|         Zone|District|             Year|            Month|Capture Rate-Paper |  Capture Rate-MGP|Capture Rate-Total|\n",
      "+-------+-------------+--------+-----------------+-----------------+-------------------+------------------+------------------+\n",
      "|  count|         2832|    2832|             2832|             2832|               2824|              2824|              2823|\n",
      "|   mean|         null|    null|           2017.5|              6.5| 38.463274260031916|61.237294661423405|46.185577858179315|\n",
      "| stddev|         null|    null|1.118231434046862|3.452662163540219|   9.08247266786091|16.302661837510325| 9.604674504195676|\n",
      "|    min|        Bronx|   BKN01|             2016|                1|        16.92495798|       100.2728677|       18.49133542|\n",
      "|    max|Staten Island|    SI03|             2019|                9|        99.88732645|       99.94344858|       99.67420165|\n",
      "+-------+-------------+--------+-----------------+-----------------+-------------------+------------------+------------------+\n",
      "\n"
     ]
    }
   ],
   "source": [
    "CaptureRates.describe().show()"
   ]
  },
  {
   "cell_type": "code",
   "execution_count": 97,
   "metadata": {},
   "outputs": [
    {
     "name": "stdout",
     "output_type": "stream",
     "text": [
      "root\n",
      " |-- Zone: string (nullable = true)\n",
      " |-- District: string (nullable = true)\n",
      " |-- Year: string (nullable = true)\n",
      " |-- Month: string (nullable = true)\n",
      " |-- Capture Rate-Paper : string (nullable = true)\n",
      " |-- Capture Rate-MGP: string (nullable = true)\n",
      " |-- Capture Rate-Total: string (nullable = true)\n",
      "\n"
     ]
    }
   ],
   "source": [
    "CaptureRates.printSchema()"
   ]
  },
  {
   "cell_type": "code",
   "execution_count": 98,
   "metadata": {},
   "outputs": [
    {
     "name": "stdout",
     "output_type": "stream",
     "text": [
      "+--------------+--------+-------------------+----+-----+--------------------+\n",
      "|          Zone|District|Fiscal Month Number|Year|Month|Diversion Rate-Total|\n",
      "+--------------+--------+-------------------+----+-----+--------------------+\n",
      "|Brooklyn North|   BKN01|                 10|2019|    4|          14.6870926|\n",
      "|Brooklyn North|   BKN02|                 10|2019|    4|         19.95018146|\n",
      "|Brooklyn North|   BKN03|                 10|2019|    4|         12.16416133|\n",
      "|Brooklyn North|   BKN04|                 10|2019|    4|         15.54180313|\n",
      "|Brooklyn North|   BKN05|                 10|2019|    4|         10.05184541|\n",
      "|Brooklyn North|   BKN08|                 10|2019|    4|         16.44838382|\n",
      "|Brooklyn North|   BKN09|                 10|2019|    4|         13.96568009|\n",
      "|Brooklyn North|   BKN16|                 10|2019|    4|                null|\n",
      "|Brooklyn North|   BKN17|                 10|2019|    4|           13.353184|\n",
      "|Brooklyn South|   BKS06|                 10|2019|    4|         28.95129746|\n",
      "|Brooklyn South|   BKS07|                 10|2019|    4|         20.37848342|\n",
      "|Brooklyn South|   BKS10|                 10|2019|    4|         23.76882901|\n",
      "|Brooklyn South|   BKS11|                 10|2019|    4|         18.38334714|\n",
      "|Brooklyn South|   BKS12|                 10|2019|    4|          14.9388304|\n",
      "|Brooklyn South|   BKS13|                 10|2019|    4|         14.34817417|\n",
      "|Brooklyn South|   BKS14|                 10|2019|    4|         14.99616789|\n",
      "|Brooklyn South|   BKS15|                 10|2019|    4|         18.65530423|\n",
      "|Brooklyn South|   BKS18|                 10|2019|    4|          14.7319555|\n",
      "|         Bronx|    BX01|                 10|2019|    4|         7.146499015|\n",
      "|         Bronx|    BX02|                 10|2019|    4|         13.38783581|\n",
      "+--------------+--------+-------------------+----+-----+--------------------+\n",
      "only showing top 20 rows\n",
      "\n"
     ]
    }
   ],
   "source": [
    "DiversionRates.show()"
   ]
  },
  {
   "cell_type": "code",
   "execution_count": 99,
   "metadata": {},
   "outputs": [
    {
     "name": "stdout",
     "output_type": "stream",
     "text": [
      "+-------+-------------+--------+-------------------+-----------------+-----------------+--------------------+\n",
      "|summary|         Zone|District|Fiscal Month Number|             Year|            Month|Diversion Rate-Total|\n",
      "+-------+-------------+--------+-------------------+-----------------+-----------------+--------------------+\n",
      "|  count|         2832|    2832|               2832|             2832|             2832|                2823|\n",
      "|   mean|         null|    null|                6.5|           2017.5|              6.5|  18.698557936275954|\n",
      "| stddev|         null|    null| 3.4526621635402153|1.118231434046862|3.452662163540219|  11.060583334328074|\n",
      "|    min|        Bronx|   BKN01|                  1|             2016|                1|          10.0058227|\n",
      "|    max|Staten Island|    SI03|                  9|             2019|                9|         99.95465493|\n",
      "+-------+-------------+--------+-------------------+-----------------+-----------------+--------------------+\n",
      "\n"
     ]
    }
   ],
   "source": [
    "DiversionRates.describe().show()"
   ]
  },
  {
   "cell_type": "code",
   "execution_count": 100,
   "metadata": {},
   "outputs": [
    {
     "name": "stdout",
     "output_type": "stream",
     "text": [
      "root\n",
      " |-- Zone: string (nullable = true)\n",
      " |-- District: string (nullable = true)\n",
      " |-- Fiscal Month Number: string (nullable = true)\n",
      " |-- Year: string (nullable = true)\n",
      " |-- Month: string (nullable = true)\n",
      " |-- Diversion Rate-Total: string (nullable = true)\n",
      "\n"
     ]
    }
   ],
   "source": [
    "DiversionRates.printSchema()"
   ]
  },
  {
   "cell_type": "code",
   "execution_count": 101,
   "metadata": {},
   "outputs": [],
   "source": [
    "from pyspark.sql import functions as F"
   ]
  },
  {
   "cell_type": "code",
   "execution_count": 102,
   "metadata": {},
   "outputs": [
    {
     "name": "stdout",
     "output_type": "stream",
     "text": [
      "+--------------+--------+----+-----+-------------------+----------------+------------------+\n",
      "|          Zone|District|Year|Month|Capture Rate-Paper |Capture Rate-MGP|Capture Rate-Total|\n",
      "+--------------+--------+----+-----+-------------------+----------------+------------------+\n",
      "|     Manhattan|    MN07|2019|    6|               null|     84.60148694|       53.46484506|\n",
      "|Brooklyn South|   BKS13|2018|    7|               null|     46.94548815|       42.72231078|\n",
      "|Brooklyn South|   BKS13|2017|   12|               null|     50.59499684|       48.94802694|\n",
      "|Brooklyn North|   BKN17|2017|    5|               null|     58.19931514|       39.19582012|\n",
      "|         Bronx|    BX09|2016|   12|               null|     39.81542025|       31.12170894|\n",
      "|         Bronx|    BX10|2016|    6|               null|     64.11989973|       51.11232224|\n",
      "|     Manhattan|    MN04|2016|   11|               null|      74.2167646|       41.72371628|\n",
      "|   Queens East|    QE10|2016|    9|               null|     74.12667651|       47.67939334|\n",
      "+--------------+--------+----+-----+-------------------+----------------+------------------+\n",
      "\n"
     ]
    }
   ],
   "source": [
    "CaptureRates.where(F.isnull(F.col(\"Capture Rate-Paper \"))).show()"
   ]
  },
  {
   "cell_type": "code",
   "execution_count": 103,
   "metadata": {},
   "outputs": [
    {
     "data": {
      "text/plain": [
       "8"
      ]
     },
     "execution_count": 103,
     "metadata": {},
     "output_type": "execute_result"
    }
   ],
   "source": [
    "CaptureRates.where(F.isnull(F.col(\"Capture Rate-Paper \"))).count()"
   ]
  },
  {
   "cell_type": "code",
   "execution_count": 104,
   "metadata": {},
   "outputs": [
    {
     "name": "stdout",
     "output_type": "stream",
     "text": [
      "+--------------+--------+----+-----+-------------------+----------------+------------------+\n",
      "|          Zone|District|Year|Month|Capture Rate-Paper |Capture Rate-MGP|Capture Rate-Total|\n",
      "+--------------+--------+----+-----+-------------------+----------------+------------------+\n",
      "|Brooklyn North|   BKN17|2019|    4|        28.44795289|            null|       40.71872785|\n",
      "|   Queens West|    QW02|2019|    2|        46.63512855|            null|       56.07192045|\n",
      "|         Bronx|    BX09|2019|   11|        25.16149611|            null|       32.26614772|\n",
      "|Brooklyn South|   BKS07|2018|   12|        46.63169699|            null|       55.45682339|\n",
      "|   Queens West|    QW04|2018|    5|        34.14577677|            null|       44.30379885|\n",
      "|     Manhattan|    MN10|2017|    1|        40.72120179|            null|       47.33235139|\n",
      "|Brooklyn North|   BKN01|2016|    3|        42.80084563|            null|       44.38601613|\n",
      "|     Manhattan|    MN05|2016|    9|        30.51603607|            null|       36.13918517|\n",
      "+--------------+--------+----+-----+-------------------+----------------+------------------+\n",
      "\n"
     ]
    }
   ],
   "source": [
    "CaptureRates.where(F.isnull('Capture Rate-MGP')).show()"
   ]
  },
  {
   "cell_type": "code",
   "execution_count": 105,
   "metadata": {},
   "outputs": [
    {
     "data": {
      "text/plain": [
       "8"
      ]
     },
     "execution_count": 105,
     "metadata": {},
     "output_type": "execute_result"
    }
   ],
   "source": [
    "CaptureRates.where(F.isnull('Capture Rate-MGP')).count()"
   ]
  },
  {
   "cell_type": "code",
   "execution_count": 106,
   "metadata": {},
   "outputs": [
    {
     "name": "stdout",
     "output_type": "stream",
     "text": [
      "+--------------+--------+----+-----+-------------------+----------------+------------------+\n",
      "|          Zone|District|Year|Month|Capture Rate-Paper |Capture Rate-MGP|Capture Rate-Total|\n",
      "+--------------+--------+----+-----+-------------------+----------------+------------------+\n",
      "|         Bronx|    BX07|2019|    4|        33.42122281|     69.41346789|              null|\n",
      "|   Queens East|    QE11|2019|    2|        48.67343766|     83.63890414|              null|\n",
      "|   Queens West|    QW06|2019|   11|        29.09353985|     75.65745485|              null|\n",
      "|Brooklyn North|   BKN04|2018|    6|        37.23557243|     67.50544716|              null|\n",
      "|   Queens East|    QE14|2017|    4|        31.34886333|     43.90812172|              null|\n",
      "|     Manhattan|    MN07|2017|   11|        43.00485742|     83.58867703|              null|\n",
      "|   Queens West|    QW02|2016|    7|         50.3827605|     60.21227308|              null|\n",
      "|         Bronx|    BX02|2016|   10|        30.17373498|     48.72464682|              null|\n",
      "|   Queens West|    QW02|2016|    9|        50.91684786|     74.34598665|              null|\n",
      "+--------------+--------+----+-----+-------------------+----------------+------------------+\n",
      "\n"
     ]
    }
   ],
   "source": [
    "CaptureRates.where(F.isnull('Capture Rate-Total')).show()"
   ]
  },
  {
   "cell_type": "code",
   "execution_count": 107,
   "metadata": {},
   "outputs": [
    {
     "data": {
      "text/plain": [
       "9"
      ]
     },
     "execution_count": 107,
     "metadata": {},
     "output_type": "execute_result"
    }
   ],
   "source": [
    "CaptureRates.where(F.isnull('Capture Rate-Total')).count()"
   ]
  },
  {
   "cell_type": "code",
   "execution_count": 108,
   "metadata": {},
   "outputs": [
    {
     "name": "stdout",
     "output_type": "stream",
     "text": [
      "+-----+--------+----+-----+-------------------+----------------+------------------+\n",
      "| Zone|District|Year|Month|Capture Rate-Paper |Capture Rate-MGP|Capture Rate-Total|\n",
      "+-----+--------+----+-----+-------------------+----------------+------------------+\n",
      "|Bronx|    BX01|2018|    9|        99.88732645|     25.87494231|       22.49851724|\n",
      "+-----+--------+----+-----+-------------------+----------------+------------------+\n",
      "\n"
     ]
    }
   ],
   "source": [
    "CaptureRates.filter(CaptureRates[\"Capture Rate-Paper \"] > 99).show()"
   ]
  },
  {
   "cell_type": "code",
   "execution_count": 109,
   "metadata": {},
   "outputs": [
    {
     "name": "stdout",
     "output_type": "stream",
     "text": [
      "+-----------+--------+----+-----+-------------------+----------------+------------------+\n",
      "|       Zone|District|Year|Month|Capture Rate-Paper |Capture Rate-MGP|Capture Rate-Total|\n",
      "+-----------+--------+----+-----+-------------------+----------------+------------------+\n",
      "|Queens East|    QE13|2019|    6|        38.06356057|     100.2728677|       60.18304307|\n",
      "|Queens West|    QW05|2018|    9|        44.07299353|      101.784185|       63.76372968|\n",
      "|Queens West|    QW05|2017|    2|        45.84445399|     99.94344858|        61.8977647|\n",
      "+-----------+--------+----+-----+-------------------+----------------+------------------+\n",
      "\n"
     ]
    }
   ],
   "source": [
    "CaptureRates.filter(CaptureRates[\"Capture Rate-MGP\"] > 99).show()"
   ]
  },
  {
   "cell_type": "code",
   "execution_count": 110,
   "metadata": {},
   "outputs": [
    {
     "name": "stdout",
     "output_type": "stream",
     "text": [
      "+-------------+--------+----+-----+-------------------+----------------+------------------+\n",
      "|         Zone|District|Year|Month|Capture Rate-Paper |Capture Rate-MGP|Capture Rate-Total|\n",
      "+-------------+--------+----+-----+-------------------+----------------+------------------+\n",
      "|    Manhattan|    MN12|2018|    3|        44.79016985|     55.64268709|       99.67420165|\n",
      "|Staten Island|    SI01|2017|    8|        38.18388758|     70.53626439|       99.65444604|\n",
      "+-------------+--------+----+-----+-------------------+----------------+------------------+\n",
      "\n"
     ]
    }
   ],
   "source": [
    "CaptureRates.filter(CaptureRates[\"Capture Rate-Total\"] > 99).show()"
   ]
  },
  {
   "cell_type": "code",
   "execution_count": 111,
   "metadata": {},
   "outputs": [
    {
     "name": "stdout",
     "output_type": "stream",
     "text": [
      "+--------------+--------+-------------------+----+-----+--------------------+\n",
      "|          Zone|District|Fiscal Month Number|Year|Month|Diversion Rate-Total|\n",
      "+--------------+--------+-------------------+----+-----+--------------------+\n",
      "|Brooklyn North|   BKN16|                 10|2019|    4|                null|\n",
      "|Brooklyn North|   BKN17|                  6|2019|   12|                null|\n",
      "|   Queens West|    QW06|                  8|2019|    2|                null|\n",
      "|   Queens West|    QW06|                 10|2018|    4|                null|\n",
      "|     Manhattan|    MN09|                 11|2018|    5|                null|\n",
      "|   Queens West|    QW09|                  2|2017|    8|                null|\n",
      "|         Bronx|    BX09|                 11|2017|    5|                null|\n",
      "| Staten Island|    SI02|                  8|2016|    2|                null|\n",
      "|   Queens West|    QW01|                  4|2016|   10|                null|\n",
      "+--------------+--------+-------------------+----+-----+--------------------+\n",
      "\n"
     ]
    }
   ],
   "source": [
    "DiversionRates.where(F.isnull('Diversion Rate-Total')).show()"
   ]
  },
  {
   "cell_type": "code",
   "execution_count": 112,
   "metadata": {},
   "outputs": [
    {
     "data": {
      "text/plain": [
       "9"
      ]
     },
     "execution_count": 112,
     "metadata": {},
     "output_type": "execute_result"
    }
   ],
   "source": [
    "DiversionRates.where(F.isnull('Diversion Rate-Total')).count()"
   ]
  },
  {
   "cell_type": "code",
   "execution_count": 113,
   "metadata": {},
   "outputs": [
    {
     "name": "stdout",
     "output_type": "stream",
     "text": [
      "+--------------+--------+-------------------+----+-----+--------------------+\n",
      "|          Zone|District|Fiscal Month Number|Year|Month|Diversion Rate-Total|\n",
      "+--------------+--------+-------------------+----+-----+--------------------+\n",
      "|         Bronx|    BX03|                 10|2019|    4|         99.80467332|\n",
      "|         Bronx|    BX08|                  7|2019|    1|         99.66626445|\n",
      "|Brooklyn South|   BKS07|                 12|2019|    6|          99.0926623|\n",
      "|         Bronx|    BX02|                  5|2019|   11|         99.11602147|\n",
      "|         Bronx|    BX08|                  4|2019|   10|         99.94504275|\n",
      "|         Bronx|    BX09|                  3|2019|    9|         99.83302945|\n",
      "| Staten Island|    SI02|                  3|2019|    9|         99.45434908|\n",
      "|   Queens West|    QW01|                  2|2018|    8|         99.35957019|\n",
      "|Brooklyn North|   BKN16|                  8|2018|    2|         99.56822369|\n",
      "|   Queens West|    QW04|                  8|2018|    2|         95.59122338|\n",
      "|Brooklyn North|   BKN09|                  7|2018|    1|         99.65306209|\n",
      "|Brooklyn South|   BKS06|                  1|2018|    7|          98.3237613|\n",
      "|Brooklyn North|   BKN03|                 12|2018|    6|          99.5238821|\n",
      "|         Bronx|    BX05|                 12|2018|    6|         91.60100163|\n",
      "|   Queens East|    QE12|                  9|2018|    3|           99.677838|\n",
      "|Brooklyn North|   BKN05|                 11|2018|    5|         99.38080538|\n",
      "|   Queens West|    QW05|                 11|2018|    5|         92.60562816|\n",
      "|Brooklyn South|   BKS15|                  4|2018|   10|         99.65819262|\n",
      "|     Manhattan|    MN09|                  4|2018|   10|         98.72901297|\n",
      "|     Manhattan|    MN12|                  3|2018|    9|         95.65713456|\n",
      "+--------------+--------+-------------------+----+-----+--------------------+\n",
      "only showing top 20 rows\n",
      "\n"
     ]
    }
   ],
   "source": [
    "DiversionRates.filter(DiversionRates[\"Diversion Rate-Total\"] > 90).show()"
   ]
  },
  {
   "cell_type": "code",
   "execution_count": 114,
   "metadata": {},
   "outputs": [
    {
     "data": {
      "text/plain": [
       "42"
      ]
     },
     "execution_count": 114,
     "metadata": {},
     "output_type": "execute_result"
    }
   ],
   "source": [
    "DiversionRates.filter(DiversionRates[\"Diversion Rate-Total\"] > 90).count()"
   ]
  },
  {
   "cell_type": "code",
   "execution_count": 115,
   "metadata": {},
   "outputs": [
    {
     "name": "stdout",
     "output_type": "stream",
     "text": [
      "+--------------+--------+----+-----+-------------------+----------------+------------------+-------------------+--------------------+\n",
      "|          Zone|District|Year|Month|Capture Rate-Paper |Capture Rate-MGP|Capture Rate-Total|Fiscal Month Number|Diversion Rate-Total|\n",
      "+--------------+--------+----+-----+-------------------+----------------+------------------+-------------------+--------------------+\n",
      "|         Bronx|    BX06|2016|    7|        34.12960546|     36.72745641|       35.24388351|                  1|         11.01760922|\n",
      "|Brooklyn North|   BKN08|2016|   12|         46.3519992|     55.05086112|       49.91577389|                  6|         16.17116466|\n",
      "|Brooklyn South|   BKS15|2017|    9|        49.19295016|     67.69933236|       55.50722439|                  3|         17.83143535|\n",
      "|     Manhattan|    MN05|2019|    5|        33.14255881|     65.92865564|       41.03887429|                 11|         20.65269981|\n",
      "|     Manhattan|    MN08|2016|    7|        39.55695694|     63.98115031|       46.13552357|                  1|         23.90927094|\n",
      "|     Manhattan|    MN08|2018|    3|        42.48945613|     74.63227874|       50.76089516|                  9|         26.74839012|\n",
      "|     Manhattan|    MN11|2017|    9|        41.82892981|     30.56452172|       36.91653742|                  3|         11.90955875|\n",
      "|     Manhattan|    MN12|2019|    1|        47.27294323|     62.79124002|       54.25674739|                  7|         18.24021504|\n",
      "|   Queens East|    QE07|2017|    9|        47.39091188|     69.56669259|       54.95716439|                  3|         17.65473116|\n",
      "|   Queens East|    QE08|2016|    6|        29.66933982|     50.28666046|       35.76233528|                 12|          15.3492204|\n",
      "|   Queens East|    QE10|2017|    4|        44.99929597|     94.46488371|        62.5875517|                 10|         21.07126736|\n",
      "|   Queens East|    QE14|2018|    2|        33.85278319|     52.14301394|       40.51095669|                  8|          16.0668616|\n",
      "|   Queens West|    QW05|2017|    2|        45.84445399|     99.94344858|        61.8977647|                  8|         26.44844334|\n",
      "|         Bronx|    BX01|2018|    9|        99.88732645|     25.87494231|       22.49851724|                  3|         6.846864102|\n",
      "|         Bronx|    BX05|2017|    4|        27.76983433|     52.87920018|       38.73569164|                 10|         11.53313243|\n",
      "|         Bronx|    BX05|2019|    2|        25.28501155|     46.60705646|       34.88071576|                  8|         10.83657414|\n",
      "|Brooklyn North|   BKN02|2017|   10|        33.64592599|     55.00980677|       39.52727774|                  4|         18.44007192|\n",
      "|Brooklyn North|   BKN03|2019|    2|         35.5959477|     45.63648058|         39.709382|                  8|         12.97459912|\n",
      "|Brooklyn North|   BKN04|2016|    4|        30.31921363|     59.29249155|       42.09944884|                 10|         13.42135808|\n",
      "|Brooklyn North|   BKN04|2018|    3|        36.22090319|     67.16694062|       48.89896452|                  9|         15.45502014|\n",
      "+--------------+--------+----+-----+-------------------+----------------+------------------+-------------------+--------------------+\n",
      "only showing top 20 rows\n",
      "\n"
     ]
    }
   ],
   "source": [
    "RecyclingRates = CaptureRates.join(DiversionRates, on=['Zone','District','Year','Month'], how = 'outer')\n",
    "RecyclingRates.show()"
   ]
  },
  {
   "cell_type": "code",
   "execution_count": 116,
   "metadata": {},
   "outputs": [
    {
     "data": {
      "text/plain": [
       "['Zone',\n",
       " 'District',\n",
       " 'Year',\n",
       " 'Month',\n",
       " 'Capture Rate-Paper ',\n",
       " 'Capture Rate-MGP',\n",
       " 'Capture Rate-Total',\n",
       " 'Fiscal Month Number',\n",
       " 'Diversion Rate-Total']"
      ]
     },
     "execution_count": 116,
     "metadata": {},
     "output_type": "execute_result"
    }
   ],
   "source": [
    "RecyclingRates.columns"
   ]
  },
  {
   "cell_type": "code",
   "execution_count": 117,
   "metadata": {},
   "outputs": [
    {
     "data": {
      "text/plain": [
       "2798"
      ]
     },
     "execution_count": 117,
     "metadata": {},
     "output_type": "execute_result"
    }
   ],
   "source": [
    "RecyclingRates2 = RecyclingRates.na.drop()\n",
    "RecyclingRates2.count()"
   ]
  },
  {
   "cell_type": "code",
   "execution_count": 118,
   "metadata": {},
   "outputs": [
    {
     "data": {
      "text/plain": [
       "2832"
      ]
     },
     "execution_count": 118,
     "metadata": {},
     "output_type": "execute_result"
    }
   ],
   "source": [
    "RecyclingRates.count()"
   ]
  },
  {
   "cell_type": "code",
   "execution_count": 119,
   "metadata": {},
   "outputs": [
    {
     "name": "stdout",
     "output_type": "stream",
     "text": [
      "+--------------+--------+----+-----+-------------------+----------------+------------------+-------------------+--------------------+\n",
      "|          Zone|District|Year|Month|Capture Rate-Paper |Capture Rate-MGP|Capture Rate-Total|Fiscal Month Number|Diversion Rate-Total|\n",
      "+--------------+--------+----+-----+-------------------+----------------+------------------+-------------------+--------------------+\n",
      "|         Bronx|    BX06|2016|    7|        34.12960546|     36.72745641|       35.24388351|                  1|         11.01760922|\n",
      "|Brooklyn North|   BKN08|2016|   12|         46.3519992|     55.05086112|       49.91577389|                  6|         16.17116466|\n",
      "|Brooklyn South|   BKS15|2017|    9|        49.19295016|     67.69933236|       55.50722439|                  3|         17.83143535|\n",
      "|     Manhattan|    MN05|2019|    5|        33.14255881|     65.92865564|       41.03887429|                 11|         20.65269981|\n",
      "|     Manhattan|    MN08|2016|    7|        39.55695694|     63.98115031|       46.13552357|                  1|         23.90927094|\n",
      "|     Manhattan|    MN08|2018|    3|        42.48945613|     74.63227874|       50.76089516|                  9|         26.74839012|\n",
      "|     Manhattan|    MN11|2017|    9|        41.82892981|     30.56452172|       36.91653742|                  3|         11.90955875|\n",
      "|     Manhattan|    MN12|2019|    1|        47.27294323|     62.79124002|       54.25674739|                  7|         18.24021504|\n",
      "|   Queens East|    QE07|2017|    9|        47.39091188|     69.56669259|       54.95716439|                  3|         17.65473116|\n",
      "|   Queens East|    QE08|2016|    6|        29.66933982|     50.28666046|       35.76233528|                 12|          15.3492204|\n",
      "|   Queens East|    QE10|2017|    4|        44.99929597|     94.46488371|        62.5875517|                 10|         21.07126736|\n",
      "|   Queens East|    QE14|2018|    2|        33.85278319|     52.14301394|       40.51095669|                  8|          16.0668616|\n",
      "|   Queens West|    QW05|2017|    2|        45.84445399|     99.94344858|        61.8977647|                  8|         26.44844334|\n",
      "|         Bronx|    BX01|2018|    9|        99.88732645|     25.87494231|       22.49851724|                  3|         6.846864102|\n",
      "|         Bronx|    BX05|2017|    4|        27.76983433|     52.87920018|       38.73569164|                 10|         11.53313243|\n",
      "|         Bronx|    BX05|2019|    2|        25.28501155|     46.60705646|       34.88071576|                  8|         10.83657414|\n",
      "|Brooklyn North|   BKN02|2017|   10|        33.64592599|     55.00980677|       39.52727774|                  4|         18.44007192|\n",
      "|Brooklyn North|   BKN03|2019|    2|         35.5959477|     45.63648058|         39.709382|                  8|         12.97459912|\n",
      "|Brooklyn North|   BKN04|2016|    4|        30.31921363|     59.29249155|       42.09944884|                 10|         13.42135808|\n",
      "|Brooklyn North|   BKN04|2018|    3|        36.22090319|     67.16694062|       48.89896452|                  9|         15.45502014|\n",
      "+--------------+--------+----+-----+-------------------+----------------+------------------+-------------------+--------------------+\n",
      "only showing top 20 rows\n",
      "\n"
     ]
    }
   ],
   "source": [
    "RecyclingRates2.show()"
   ]
  },
  {
   "cell_type": "code",
   "execution_count": 120,
   "metadata": {},
   "outputs": [
    {
     "data": {
      "text/plain": [
       "2797"
      ]
     },
     "execution_count": 120,
     "metadata": {},
     "output_type": "execute_result"
    }
   ],
   "source": [
    "RecyclingRates3 = RecyclingRates2.filter(RecyclingRates2[\"Capture Rate-Paper \"] < 99)\n",
    "RecyclingRates3.count()"
   ]
  },
  {
   "cell_type": "code",
   "execution_count": 121,
   "metadata": {},
   "outputs": [
    {
     "data": {
      "text/plain": [
       "2794"
      ]
     },
     "execution_count": 121,
     "metadata": {},
     "output_type": "execute_result"
    }
   ],
   "source": [
    "RecyclingRates4 = RecyclingRates3.filter(RecyclingRates3[\"Capture Rate-MGP\"] < 99)\n",
    "RecyclingRates4.count()"
   ]
  },
  {
   "cell_type": "code",
   "execution_count": 122,
   "metadata": {},
   "outputs": [
    {
     "data": {
      "text/plain": [
       "2792"
      ]
     },
     "execution_count": 122,
     "metadata": {},
     "output_type": "execute_result"
    }
   ],
   "source": [
    "RecyclingRates5 = RecyclingRates4.filter(RecyclingRates4[\"Capture Rate-Total\"] < 99)\n",
    "RecyclingRates5.count()"
   ]
  },
  {
   "cell_type": "code",
   "execution_count": 123,
   "metadata": {},
   "outputs": [
    {
     "data": {
      "text/plain": [
       "2750"
      ]
     },
     "execution_count": 123,
     "metadata": {},
     "output_type": "execute_result"
    }
   ],
   "source": [
    "RecyclingRates6 = RecyclingRates5.filter(RecyclingRates5[\"Diversion Rate-Total\"] < 90)\n",
    "RecyclingRates6.count()"
   ]
  },
  {
   "cell_type": "code",
   "execution_count": 140,
   "metadata": {},
   "outputs": [],
   "source": [
    "RecyclingRates7 = RecyclingRates6.withColumn(\n",
    "    'Recycling System Efficiency',\n",
    "    F.when((F.col(\"Capture Rate-Total\") >= 46) & (F.col(\"Diversion Rate-Total\") >= 19), 'High')\\\n",
    "    .when((F.col(\"Capture Rate-Total\") <= 46) & (F.col(\"Diversion Rate-Total\") <= 19), 'Low')\\\n",
    "    .otherwise('Medium')\n",
    ")"
   ]
  },
  {
   "cell_type": "code",
   "execution_count": 141,
   "metadata": {},
   "outputs": [
    {
     "data": {
      "text/plain": [
       "['Zone',\n",
       " 'District',\n",
       " 'Year',\n",
       " 'Month',\n",
       " 'Capture Rate-Paper ',\n",
       " 'Capture Rate-MGP',\n",
       " 'Capture Rate-Total',\n",
       " 'Fiscal Month Number',\n",
       " 'Diversion Rate-Total',\n",
       " 'Recycling System Efficiency']"
      ]
     },
     "execution_count": 141,
     "metadata": {},
     "output_type": "execute_result"
    }
   ],
   "source": [
    "RecyclingRates7.columns"
   ]
  },
  {
   "cell_type": "code",
   "execution_count": 142,
   "metadata": {},
   "outputs": [
    {
     "name": "stdout",
     "output_type": "stream",
     "text": [
      "+--------------+--------+----+-----+-------------------+----------------+------------------+-------------------+--------------------+---------------------------+\n",
      "|          Zone|District|Year|Month|Capture Rate-Paper |Capture Rate-MGP|Capture Rate-Total|Fiscal Month Number|Diversion Rate-Total|Recycling System Efficiency|\n",
      "+--------------+--------+----+-----+-------------------+----------------+------------------+-------------------+--------------------+---------------------------+\n",
      "|Brooklyn North|   BKN01|2019|    4|        44.90915978|     43.03406183|       44.14676434|                 10|          14.6870926|                        Low|\n",
      "|Brooklyn North|   BKN02|2019|    4|        34.19402011|     57.94703135|       41.21369993|                 10|         19.95018146|                     Medium|\n",
      "|Brooklyn North|   BKN03|2019|    4|        33.52155672|      44.9197311|       38.15593656|                 10|         12.16416133|                        Low|\n",
      "|Brooklyn North|   BKN04|2019|    4|        35.21136071|     68.51126005|       48.75075545|                 10|         15.54180313|                     Medium|\n",
      "|Brooklyn North|   BKN05|2019|    4|        22.26543015|     45.05179138|       31.53012901|                 10|         10.05184541|                        Low|\n",
      "|Brooklyn North|   BKN08|2019|    4|         44.4849922|     59.40278854|       50.55041394|                 10|         16.44838382|                     Medium|\n",
      "|Brooklyn North|   BKN09|2019|    4|         33.9518222|     47.86441581|       39.23629013|                 10|         13.96568009|                        Low|\n",
      "|Brooklyn South|   BKS06|2019|    4|        46.44228533|     82.99323135|       57.24411317|                 10|         28.95129746|                       High|\n",
      "|Brooklyn South|   BKS07|2019|    4|        48.02766674|     72.45767078|       57.30699859|                 10|         20.37848342|                       High|\n",
      "|Brooklyn South|   BKS10|2019|    4|        52.58350449|     75.44818208|       61.26827305|                 10|         23.76882901|                       High|\n",
      "|Brooklyn South|   BKS11|2019|    4|        45.00126483|     64.76652879|       52.50877253|                 10|         18.38334714|                     Medium|\n",
      "|Brooklyn South|   BKS12|2019|    4|        47.62293431|     41.96596302|       45.32286828|                 10|          14.9388304|                        Low|\n",
      "|Brooklyn South|   BKS13|2019|    4|        40.96474548|     51.48861387|       45.56076913|                 10|         14.34817417|                        Low|\n",
      "|Brooklyn South|   BKS14|2019|    4|        38.59031357|     57.62660046|       45.11652552|                 10|         14.99616789|                        Low|\n",
      "|Brooklyn South|   BKS15|2019|    4|        46.59808026|     63.11778886|       52.87281759|                 10|         18.65530423|                     Medium|\n",
      "|Brooklyn South|   BKS18|2019|    4|        38.53540373|      71.6319088|       50.30337863|                 10|          14.7319555|                     Medium|\n",
      "|         Bronx|    BX01|2019|    4|         19.6327944|     27.89226033|       23.23989963|                 10|         7.146499015|                        Low|\n",
      "|         Bronx|    BX02|2019|    4|        33.16471449|     60.18469099|       44.96498092|                 10|         13.38783581|                        Low|\n",
      "|         Bronx|    BX04|2019|    4|        29.97907445|     53.28755647|       40.15844296|                 10|         12.25304098|                        Low|\n",
      "|         Bronx|    BX05|2019|    4|        27.31600098|     52.55805813|       38.33980774|                 10|         11.41526229|                        Low|\n",
      "+--------------+--------+----+-----+-------------------+----------------+------------------+-------------------+--------------------+---------------------------+\n",
      "only showing top 20 rows\n",
      "\n"
     ]
    }
   ],
   "source": [
    "RecyclingRates7.show()"
   ]
  },
  {
   "cell_type": "code",
   "execution_count": null,
   "metadata": {},
   "outputs": [],
   "source": []
  },
  {
   "cell_type": "code",
   "execution_count": null,
   "metadata": {},
   "outputs": [],
   "source": [
    "RecyclingRates6.write.csv('RecyclingSchema.csv')"
   ]
  },
  {
   "cell_type": "code",
   "execution_count": null,
   "metadata": {},
   "outputs": [],
   "source": [
    "from pyspark.sql.types import (StructField,StringType,IntegerType,StructType)"
   ]
  },
  {
   "cell_type": "code",
   "execution_count": null,
   "metadata": {},
   "outputs": [],
   "source": [
    "data_schema = [StructField('Zone',StringType(),True),\n",
    "               StructField('District',StringType(),True),\n",
    "               StructField('Year',StringType(),True),\n",
    "               StructField('Month',StringType(),True),\n",
    "               StructField('Fiscal Month Number',StringType(),True),\n",
    "               StructField('Capture Rate-Paper ',IntegerType(),True),\n",
    "               StructField('Capture Rate-MGP',IntegerType(),True),\n",
    "               StructField('Capture Rate-Total',IntegerType(),True),\n",
    "               StructField('Diversion Rate-Total',IntegerType(),True),\n",
    "              ]\n",
    "final_struct = StructType(fields=data_schema)"
   ]
  },
  {
   "cell_type": "code",
   "execution_count": null,
   "metadata": {},
   "outputs": [],
   "source": [
    "RecyclingScheme = spark.read.csv('RecyclingSchema.csv', schema=final_struct)\n",
    "RecyclingScheme.printSchema()"
   ]
  },
  {
   "cell_type": "code",
   "execution_count": null,
   "metadata": {},
   "outputs": [],
   "source": []
  },
  {
   "cell_type": "code",
   "execution_count": null,
   "metadata": {},
   "outputs": [],
   "source": []
  },
  {
   "cell_type": "code",
   "execution_count": null,
   "metadata": {},
   "outputs": [],
   "source": []
  },
  {
   "cell_type": "code",
   "execution_count": null,
   "metadata": {},
   "outputs": [],
   "source": []
  },
  {
   "cell_type": "code",
   "execution_count": null,
   "metadata": {},
   "outputs": [],
   "source": []
  }
 ],
 "metadata": {
  "kernelspec": {
   "display_name": "Python 3",
   "language": "python",
   "name": "python3"
  },
  "language_info": {
   "codemirror_mode": {
    "name": "ipython",
    "version": 3
   },
   "file_extension": ".py",
   "mimetype": "text/x-python",
   "name": "python",
   "nbconvert_exporter": "python",
   "pygments_lexer": "ipython3",
   "version": "3.5.2"
  }
 },
 "nbformat": 4,
 "nbformat_minor": 2
}
