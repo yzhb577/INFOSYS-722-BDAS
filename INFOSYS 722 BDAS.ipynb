{
 "cells": [
  {
   "cell_type": "code",
   "execution_count": 1,
   "metadata": {},
   "outputs": [],
   "source": [
    "import findspark\n",
    "findspark.init('/home/ubuntu/spark-2.1.1-bin-hadoop2.7')\n",
    "import pyspark\n",
    "from pyspark.sql import SparkSession\n",
    "spark = SparkSession.builder.appName('basics').getOrCreate()"
   ]
  },
  {
   "cell_type": "code",
   "execution_count": 2,
   "metadata": {},
   "outputs": [],
   "source": [
    "CaptureRates = spark.read.csv('Recycling_Capture_Rates.csv', inferSchema=True, header=True)"
   ]
  },
  {
   "cell_type": "code",
   "execution_count": 3,
   "metadata": {},
   "outputs": [],
   "source": [
    "DiversionRates = spark.read.csv('Recycling_Diversion_Rate.csv', inferSchema=True, header=True)"
   ]
  },
  {
   "cell_type": "code",
   "execution_count": 4,
   "metadata": {
    "scrolled": true
   },
   "outputs": [
    {
     "name": "stdout",
     "output_type": "stream",
     "text": [
      "+--------------+--------+----+-----+-------------------+----------------+------------------+\n",
      "|          Zone|District|Year|Month|Capture Rate-Paper |Capture Rate-MGP|Capture Rate-Total|\n",
      "+--------------+--------+----+-----+-------------------+----------------+------------------+\n",
      "|Brooklyn North|   BKN01|2019|    4|              44.91|           43.03|             44.15|\n",
      "|Brooklyn North|   BKN02|2019|    4|              34.19|           57.95|             41.21|\n",
      "|Brooklyn North|   BKN03|2019|    4|              33.52|           44.92|             38.16|\n",
      "|Brooklyn North|   BKN04|2019|    4|              35.21|           68.51|             48.75|\n",
      "|Brooklyn North|   BKN05|2019|    4|              22.27|           45.05|             31.53|\n",
      "|Brooklyn North|   BKN08|2019|    4|              44.48|            59.4|             50.55|\n",
      "|Brooklyn North|   BKN09|2019|    4|              33.95|           47.86|             39.24|\n",
      "|Brooklyn North|   BKN16|2019|    4|              20.29|           35.25|             26.37|\n",
      "|Brooklyn North|   BKN17|2019|    4|              28.45|            null|             40.72|\n",
      "|Brooklyn South|   BKS06|2019|    4|              46.44|           82.99|             57.24|\n",
      "|Brooklyn South|   BKS07|2019|    4|              48.03|           72.46|             57.31|\n",
      "|Brooklyn South|   BKS10|2019|    4|              52.58|           75.45|             61.27|\n",
      "|Brooklyn South|   BKS11|2019|    4|               45.0|           64.77|             52.51|\n",
      "|Brooklyn South|   BKS12|2019|    4|              47.62|           41.97|             45.32|\n",
      "|Brooklyn South|   BKS13|2019|    4|              40.96|           51.49|             45.56|\n",
      "|Brooklyn South|   BKS14|2019|    4|              38.59|           57.63|             45.12|\n",
      "|Brooklyn South|   BKS15|2019|    4|               46.6|           63.12|             52.87|\n",
      "|Brooklyn South|   BKS18|2019|    4|              38.54|           71.63|              50.3|\n",
      "|         Bronx|    BX01|2019|    4|              19.63|           27.89|             23.24|\n",
      "|         Bronx|    BX02|2019|    4|              33.16|           60.18|             44.96|\n",
      "+--------------+--------+----+-----+-------------------+----------------+------------------+\n",
      "only showing top 20 rows\n",
      "\n"
     ]
    }
   ],
   "source": [
    "CaptureRates.show()"
   ]
  },
  {
   "cell_type": "code",
   "execution_count": 5,
   "metadata": {
    "scrolled": true
   },
   "outputs": [
    {
     "name": "stdout",
     "output_type": "stream",
     "text": [
      "+-------+-------------------+------------------+------------------+\n",
      "|summary|Capture Rate-Paper |  Capture Rate-MGP|Capture Rate-Total|\n",
      "+-------+-------------------+------------------+------------------+\n",
      "|  count|               2824|              2824|              2823|\n",
      "|   mean| 38.463296742209586| 61.23726274787545| 46.18568544102028|\n",
      "| stddev|  9.082466134036661|16.302650214531738|  9.60470683338671|\n",
      "|    min|              16.92|             20.41|             18.49|\n",
      "|    max|              99.89|            101.78|             99.67|\n",
      "+-------+-------------------+------------------+------------------+\n",
      "\n"
     ]
    }
   ],
   "source": [
    "CaptureRates.select('Capture Rate-Paper ',\n",
    "                            'Capture Rate-MGP',\n",
    "                            'Capture Rate-Total').describe().show()"
   ]
  },
  {
   "cell_type": "code",
   "execution_count": 6,
   "metadata": {},
   "outputs": [
    {
     "name": "stdout",
     "output_type": "stream",
     "text": [
      "root\n",
      " |-- Zone: string (nullable = true)\n",
      " |-- District: string (nullable = true)\n",
      " |-- Year: integer (nullable = true)\n",
      " |-- Month: integer (nullable = true)\n",
      " |-- Capture Rate-Paper : double (nullable = true)\n",
      " |-- Capture Rate-MGP: double (nullable = true)\n",
      " |-- Capture Rate-Total: double (nullable = true)\n",
      "\n"
     ]
    }
   ],
   "source": [
    "CaptureRates.printSchema()"
   ]
  },
  {
   "cell_type": "code",
   "execution_count": 7,
   "metadata": {},
   "outputs": [
    {
     "name": "stdout",
     "output_type": "stream",
     "text": [
      "+----+------------------------+---------------------+-----------------------+\n",
      "|Year|avg(Capture Rate-Paper )|avg(Capture Rate-MGP)|avg(Capture Rate-Total)|\n",
      "+----+------------------------+---------------------+-----------------------+\n",
      "|2016|       38.47541193181819|    58.22327195467419|      45.05595744680852|\n",
      "|2017|       38.71593484419262|    61.17787835926453|      46.38871104815865|\n",
      "|2018|      38.439589816124474|   62.396501416430596|      46.57543140028288|\n",
      "|2019|       38.22265912305515|    63.15419858156025|      46.72124822695039|\n",
      "+----+------------------------+---------------------+-----------------------+\n",
      "\n"
     ]
    }
   ],
   "source": [
    "CaptureRates.groupBy('Year').mean().select('Year',\n",
    "                                           'avg(Capture Rate-Paper )',\n",
    "                                            'avg(Capture Rate-MGP)',\n",
    "                                            'avg(Capture Rate-Total)',\n",
    "                                                  ).sort('Year').show()"
   ]
  },
  {
   "cell_type": "code",
   "execution_count": 8,
   "metadata": {},
   "outputs": [
    {
     "name": "stdout",
     "output_type": "stream",
     "text": [
      "+-----+------------------------+---------------------+-----------------------+\n",
      "|Month|avg(Capture Rate-Paper )|avg(Capture Rate-MGP)|avg(Capture Rate-Total)|\n",
      "+-----+------------------------+---------------------+-----------------------+\n",
      "|    7|      37.196085106382995|    56.43453389830509|     44.107489361702136|\n",
      "|    8|        37.0785593220339|    56.17139830508477|     44.200127118644026|\n",
      "|    3|       36.79584745762711|     60.0583404255319|     44.882966101694905|\n",
      "|   11|       38.21629787234043|   62.048170212765974|     45.778931623931584|\n",
      "|    1|       37.87529661016951|    61.87093617021276|      46.01173728813562|\n",
      "|   10|      37.780466101694905|    63.40033898305083|      46.05859574468083|\n",
      "|    2|       38.08088983050848|    62.65851063829787|       46.3751489361702|\n",
      "|    5|       38.39655319148933|    61.91085106382978|      46.54533898305087|\n",
      "|    9|       39.49540425531916|   63.667446808510675|      46.90259574468082|\n",
      "|   12|       40.92508547008548|   59.064553191489345|      46.96266949152541|\n",
      "|    4|       39.39461864406779|     64.3285531914894|     48.119658119658126|\n",
      "|    6|       40.35905982905985|    63.25771186440678|      48.29936170212766|\n",
      "+-----+------------------------+---------------------+-----------------------+\n",
      "\n"
     ]
    }
   ],
   "source": [
    "CaptureRates.groupBy('Month').mean().select('Month',\n",
    "                                           'avg(Capture Rate-Paper )',\n",
    "                                            'avg(Capture Rate-MGP)',\n",
    "                                            'avg(Capture Rate-Total)',\n",
    "                                                  ).sort('avg(Capture Rate-Total)').show()"
   ]
  },
  {
   "cell_type": "code",
   "execution_count": 9,
   "metadata": {},
   "outputs": [
    {
     "name": "stdout",
     "output_type": "stream",
     "text": [
      "+--------------+------------------------+---------------------+-----------------------+\n",
      "|          Zone|avg(Capture Rate-Paper )|avg(Capture Rate-MGP)|avg(Capture Rate-Total)|\n",
      "+--------------+------------------------+---------------------+-----------------------+\n",
      "|Brooklyn North|       34.02081206496522|    48.89351162790696|      39.63617169373555|\n",
      "|         Bronx|      31.677578397212518|   53.463147826086896|      40.18658536585364|\n",
      "|     Manhattan|       40.95928571428567|      62.135905923345|      46.40747826086956|\n",
      "|   Queens East|       38.43011940298507|    68.27026785714284|       48.7737724550898|\n",
      "|Brooklyn South|       44.95239534883723|   63.136426914153105|      51.05851851851849|\n",
      "|   Queens West|        40.6364583333333|    72.36505988023954|      51.51036036036034|\n",
      "| Staten Island|       44.48854166666667|    77.65249999999997|      55.88145833333335|\n",
      "+--------------+------------------------+---------------------+-----------------------+\n",
      "\n"
     ]
    }
   ],
   "source": [
    "CaptureRates.groupBy('Zone').mean().select('Zone',\n",
    "                                           'avg(Capture Rate-Paper )',\n",
    "                                            'avg(Capture Rate-MGP)',\n",
    "                                            'avg(Capture Rate-Total)',\n",
    "                                                  ).sort('avg(Capture Rate-Total)').show()"
   ]
  },
  {
   "cell_type": "code",
   "execution_count": 10,
   "metadata": {},
   "outputs": [
    {
     "name": "stdout",
     "output_type": "stream",
     "text": [
      "+--------------+--------+-------------------+----+-----+--------------------+------------------------+\n",
      "|          Zone|District|Fiscal Month Number|Year|Month|Diversion Rate-Total|Diversion Rate-Total LOG|\n",
      "+--------------+--------+-------------------+----+-----+--------------------+------------------------+\n",
      "|Brooklyn North|   BKN01|                 10|2019|    4|               14.69|                    1.17|\n",
      "|Brooklyn North|   BKN02|                 10|2019|    4|               19.95|                     1.3|\n",
      "|Brooklyn North|   BKN03|                 10|2019|    4|               12.16|                    1.09|\n",
      "|Brooklyn North|   BKN04|                 10|2019|    4|               15.54|                    1.19|\n",
      "|Brooklyn North|   BKN05|                 10|2019|    4|               10.05|                     1.0|\n",
      "|Brooklyn North|   BKN08|                 10|2019|    4|               16.45|                    1.22|\n",
      "|Brooklyn North|   BKN09|                 10|2019|    4|               13.97|                    1.15|\n",
      "|Brooklyn North|   BKN16|                 10|2019|    4|                null|                    null|\n",
      "|Brooklyn North|   BKN17|                 10|2019|    4|               13.35|                    1.13|\n",
      "|Brooklyn South|   BKS06|                 10|2019|    4|               28.95|                    1.46|\n",
      "|Brooklyn South|   BKS07|                 10|2019|    4|               20.38|                    1.31|\n",
      "|Brooklyn South|   BKS10|                 10|2019|    4|               23.77|                    1.38|\n",
      "|Brooklyn South|   BKS11|                 10|2019|    4|               18.38|                    1.26|\n",
      "|Brooklyn South|   BKS12|                 10|2019|    4|               14.94|                    1.17|\n",
      "|Brooklyn South|   BKS13|                 10|2019|    4|               14.35|                    1.16|\n",
      "|Brooklyn South|   BKS14|                 10|2019|    4|                15.0|                    1.18|\n",
      "|Brooklyn South|   BKS15|                 10|2019|    4|               18.66|                    1.27|\n",
      "|Brooklyn South|   BKS18|                 10|2019|    4|               14.73|                    1.17|\n",
      "|         Bronx|    BX01|                 10|2019|    4|                7.15|                    0.85|\n",
      "|         Bronx|    BX02|                 10|2019|    4|               13.39|                    1.13|\n",
      "+--------------+--------+-------------------+----+-----+--------------------+------------------------+\n",
      "only showing top 20 rows\n",
      "\n"
     ]
    }
   ],
   "source": [
    "DiversionRates.show()"
   ]
  },
  {
   "cell_type": "code",
   "execution_count": 11,
   "metadata": {},
   "outputs": [
    {
     "name": "stdout",
     "output_type": "stream",
     "text": [
      "+-------+--------------------+\n",
      "|summary|Diversion Rate-Total|\n",
      "+-------+--------------------+\n",
      "|  count|                2823|\n",
      "|   mean|  18.698480340063803|\n",
      "| stddev|  11.060474403926882|\n",
      "|    min|                5.92|\n",
      "|    max|               99.95|\n",
      "+-------+--------------------+\n",
      "\n"
     ]
    }
   ],
   "source": [
    "DiversionRates.select('Diversion Rate-Total').describe().show()"
   ]
  },
  {
   "cell_type": "code",
   "execution_count": 12,
   "metadata": {},
   "outputs": [
    {
     "name": "stdout",
     "output_type": "stream",
     "text": [
      "root\n",
      " |-- Zone: string (nullable = true)\n",
      " |-- District: string (nullable = true)\n",
      " |-- Fiscal Month Number: integer (nullable = true)\n",
      " |-- Year: integer (nullable = true)\n",
      " |-- Month: integer (nullable = true)\n",
      " |-- Diversion Rate-Total: double (nullable = true)\n",
      " |-- Diversion Rate-Total LOG: double (nullable = true)\n",
      "\n"
     ]
    }
   ],
   "source": [
    "DiversionRates.printSchema()"
   ]
  },
  {
   "cell_type": "code",
   "execution_count": 13,
   "metadata": {},
   "outputs": [
    {
     "name": "stdout",
     "output_type": "stream",
     "text": [
      "+----+-------------------------+\n",
      "|Year|avg(Diversion Rate-Total)|\n",
      "+----+-------------------------+\n",
      "|2016|       18.096586402266325|\n",
      "|2017|         18.4964164305949|\n",
      "|2018|       19.345750708215313|\n",
      "|2019|        18.85539007092199|\n",
      "+----+-------------------------+\n",
      "\n"
     ]
    }
   ],
   "source": [
    "DiversionRates.groupBy('Year').mean().select('Year','avg(Diversion Rate-Total)').sort('Year').show()"
   ]
  },
  {
   "cell_type": "code",
   "execution_count": 14,
   "metadata": {},
   "outputs": [
    {
     "name": "stdout",
     "output_type": "stream",
     "text": [
      "+-----+-------------------------+\n",
      "|Month|avg(Diversion Rate-Total)|\n",
      "+-----+-------------------------+\n",
      "|    8|        17.62331914893616|\n",
      "|    7|       17.947669491525428|\n",
      "|    4|       18.056965811965824|\n",
      "|    3|       18.233516949152545|\n",
      "|   10|        18.34646808510638|\n",
      "|    5|       18.372948717948717|\n",
      "|    6|       18.845932203389832|\n",
      "|   12|       18.950468085106376|\n",
      "|    2|        19.13739316239317|\n",
      "|   11|       19.158050847457616|\n",
      "|    9|       19.335720338983048|\n",
      "|    1|       20.363855932203386|\n",
      "+-----+-------------------------+\n",
      "\n"
     ]
    }
   ],
   "source": [
    "DiversionRates.groupBy('Month').mean().select('Month','avg(Diversion Rate-Total)').sort('avg(Diversion Rate-Total)').show()"
   ]
  },
  {
   "cell_type": "code",
   "execution_count": 15,
   "metadata": {},
   "outputs": [
    {
     "name": "stdout",
     "output_type": "stream",
     "text": [
      "+--------------+-------------------------+\n",
      "|          Zone|avg(Diversion Rate-Total)|\n",
      "+--------------+-------------------------+\n",
      "|Brooklyn North|       15.104558139534879|\n",
      "|         Bronx|       15.496956521739152|\n",
      "|   Queens East|        18.81872023809522|\n",
      "|Brooklyn South|       20.172916666666648|\n",
      "|   Queens West|       20.607801204819285|\n",
      "|     Manhattan|        21.18692173913043|\n",
      "| Staten Island|       23.203076923076914|\n",
      "+--------------+-------------------------+\n",
      "\n"
     ]
    }
   ],
   "source": [
    "DiversionRates.groupBy('Zone').mean().select('Zone','avg(Diversion Rate-Total)').sort('avg(Diversion Rate-Total)').show()"
   ]
  },
  {
   "cell_type": "code",
   "execution_count": 16,
   "metadata": {},
   "outputs": [],
   "source": [
    "from pyspark.sql import functions as F"
   ]
  },
  {
   "cell_type": "code",
   "execution_count": 17,
   "metadata": {},
   "outputs": [
    {
     "name": "stdout",
     "output_type": "stream",
     "text": [
      "+--------------+--------+----+-----+-------------------+----------------+------------------+\n",
      "|          Zone|District|Year|Month|Capture Rate-Paper |Capture Rate-MGP|Capture Rate-Total|\n",
      "+--------------+--------+----+-----+-------------------+----------------+------------------+\n",
      "|     Manhattan|    MN07|2019|    6|               null|            84.6|             53.46|\n",
      "|Brooklyn South|   BKS13|2018|    7|               null|           46.95|             42.72|\n",
      "|Brooklyn South|   BKS13|2017|   12|               null|           50.59|             48.95|\n",
      "|Brooklyn North|   BKN17|2017|    5|               null|            58.2|              39.2|\n",
      "|         Bronx|    BX09|2016|   12|               null|           39.82|             31.12|\n",
      "|         Bronx|    BX10|2016|    6|               null|           64.12|             51.11|\n",
      "|     Manhattan|    MN04|2016|   11|               null|           74.22|             41.72|\n",
      "|   Queens East|    QE10|2016|    9|               null|           74.13|             47.68|\n",
      "+--------------+--------+----+-----+-------------------+----------------+------------------+\n",
      "\n"
     ]
    }
   ],
   "source": [
    "CaptureRates.where(F.isnull(F.col(\"Capture Rate-Paper \"))).show()"
   ]
  },
  {
   "cell_type": "code",
   "execution_count": 18,
   "metadata": {},
   "outputs": [
    {
     "data": {
      "text/plain": [
       "8"
      ]
     },
     "execution_count": 18,
     "metadata": {},
     "output_type": "execute_result"
    }
   ],
   "source": [
    "CaptureRates.where(F.isnull(F.col(\"Capture Rate-Paper \"))).count()"
   ]
  },
  {
   "cell_type": "code",
   "execution_count": 19,
   "metadata": {},
   "outputs": [
    {
     "name": "stdout",
     "output_type": "stream",
     "text": [
      "+--------------+--------+----+-----+-------------------+----------------+------------------+\n",
      "|          Zone|District|Year|Month|Capture Rate-Paper |Capture Rate-MGP|Capture Rate-Total|\n",
      "+--------------+--------+----+-----+-------------------+----------------+------------------+\n",
      "|Brooklyn North|   BKN17|2019|    4|              28.45|            null|             40.72|\n",
      "|   Queens West|    QW02|2019|    2|              46.64|            null|             56.07|\n",
      "|         Bronx|    BX09|2019|   11|              25.16|            null|             32.27|\n",
      "|Brooklyn South|   BKS07|2018|   12|              46.63|            null|             55.46|\n",
      "|   Queens West|    QW04|2018|    5|              34.15|            null|              44.3|\n",
      "|     Manhattan|    MN10|2017|    1|              40.72|            null|             47.33|\n",
      "|Brooklyn North|   BKN01|2016|    3|               42.8|            null|             44.39|\n",
      "|     Manhattan|    MN05|2016|    9|              30.52|            null|             36.14|\n",
      "+--------------+--------+----+-----+-------------------+----------------+------------------+\n",
      "\n"
     ]
    }
   ],
   "source": [
    "CaptureRates.where(F.isnull('Capture Rate-MGP')).show()"
   ]
  },
  {
   "cell_type": "code",
   "execution_count": 20,
   "metadata": {},
   "outputs": [
    {
     "data": {
      "text/plain": [
       "8"
      ]
     },
     "execution_count": 20,
     "metadata": {},
     "output_type": "execute_result"
    }
   ],
   "source": [
    "CaptureRates.where(F.isnull('Capture Rate-MGP')).count()"
   ]
  },
  {
   "cell_type": "code",
   "execution_count": 21,
   "metadata": {},
   "outputs": [
    {
     "name": "stdout",
     "output_type": "stream",
     "text": [
      "+--------------+--------+----+-----+-------------------+----------------+------------------+\n",
      "|          Zone|District|Year|Month|Capture Rate-Paper |Capture Rate-MGP|Capture Rate-Total|\n",
      "+--------------+--------+----+-----+-------------------+----------------+------------------+\n",
      "|         Bronx|    BX07|2019|    4|              33.42|           69.41|              null|\n",
      "|   Queens East|    QE11|2019|    2|              48.67|           83.64|              null|\n",
      "|   Queens West|    QW06|2019|   11|              29.09|           75.66|              null|\n",
      "|Brooklyn North|   BKN04|2018|    6|              37.24|           67.51|              null|\n",
      "|   Queens East|    QE14|2017|    4|              31.35|           43.91|              null|\n",
      "|     Manhattan|    MN07|2017|   11|               43.0|           83.59|              null|\n",
      "|   Queens West|    QW02|2016|    7|              50.38|           60.21|              null|\n",
      "|         Bronx|    BX02|2016|   10|              30.17|           48.72|              null|\n",
      "|   Queens West|    QW02|2016|    9|              50.92|           74.35|              null|\n",
      "+--------------+--------+----+-----+-------------------+----------------+------------------+\n",
      "\n"
     ]
    }
   ],
   "source": [
    "CaptureRates.where(F.isnull('Capture Rate-Total')).show()"
   ]
  },
  {
   "cell_type": "code",
   "execution_count": 22,
   "metadata": {},
   "outputs": [
    {
     "data": {
      "text/plain": [
       "9"
      ]
     },
     "execution_count": 22,
     "metadata": {},
     "output_type": "execute_result"
    }
   ],
   "source": [
    "CaptureRates.where(F.isnull('Capture Rate-Total')).count()"
   ]
  },
  {
   "cell_type": "code",
   "execution_count": 23,
   "metadata": {},
   "outputs": [
    {
     "name": "stdout",
     "output_type": "stream",
     "text": [
      "+-----+--------+----+-----+-------------------+----------------+------------------+\n",
      "| Zone|District|Year|Month|Capture Rate-Paper |Capture Rate-MGP|Capture Rate-Total|\n",
      "+-----+--------+----+-----+-------------------+----------------+------------------+\n",
      "|Bronx|    BX01|2018|    9|              99.89|           25.87|              22.5|\n",
      "+-----+--------+----+-----+-------------------+----------------+------------------+\n",
      "\n"
     ]
    }
   ],
   "source": [
    "CaptureRates.filter(CaptureRates[\"Capture Rate-Paper \"] > 99).show()"
   ]
  },
  {
   "cell_type": "code",
   "execution_count": 24,
   "metadata": {},
   "outputs": [
    {
     "name": "stdout",
     "output_type": "stream",
     "text": [
      "+-----------+--------+----+-----+-------------------+----------------+------------------+\n",
      "|       Zone|District|Year|Month|Capture Rate-Paper |Capture Rate-MGP|Capture Rate-Total|\n",
      "+-----------+--------+----+-----+-------------------+----------------+------------------+\n",
      "|Queens East|    QE13|2019|    6|              38.06|          100.27|             60.18|\n",
      "|Queens West|    QW05|2018|    9|              44.07|          101.78|             63.76|\n",
      "|Queens West|    QW05|2017|    2|              45.84|           99.94|              61.9|\n",
      "+-----------+--------+----+-----+-------------------+----------------+------------------+\n",
      "\n"
     ]
    }
   ],
   "source": [
    "CaptureRates.filter(CaptureRates[\"Capture Rate-MGP\"] > 99).show()"
   ]
  },
  {
   "cell_type": "code",
   "execution_count": 25,
   "metadata": {},
   "outputs": [
    {
     "name": "stdout",
     "output_type": "stream",
     "text": [
      "+-------------+--------+----+-----+-------------------+----------------+------------------+\n",
      "|         Zone|District|Year|Month|Capture Rate-Paper |Capture Rate-MGP|Capture Rate-Total|\n",
      "+-------------+--------+----+-----+-------------------+----------------+------------------+\n",
      "|    Manhattan|    MN12|2018|    3|              44.79|           55.64|             99.67|\n",
      "|Staten Island|    SI01|2017|    8|              38.18|           70.54|             99.65|\n",
      "+-------------+--------+----+-----+-------------------+----------------+------------------+\n",
      "\n"
     ]
    }
   ],
   "source": [
    "CaptureRates.filter(CaptureRates[\"Capture Rate-Total\"] > 99).show()"
   ]
  },
  {
   "cell_type": "code",
   "execution_count": 26,
   "metadata": {},
   "outputs": [
    {
     "name": "stdout",
     "output_type": "stream",
     "text": [
      "+--------------+--------+-------------------+----+-----+--------------------+------------------------+\n",
      "|          Zone|District|Fiscal Month Number|Year|Month|Diversion Rate-Total|Diversion Rate-Total LOG|\n",
      "+--------------+--------+-------------------+----+-----+--------------------+------------------------+\n",
      "|Brooklyn North|   BKN16|                 10|2019|    4|                null|                    null|\n",
      "|Brooklyn North|   BKN17|                  6|2019|   12|                null|                    null|\n",
      "|   Queens West|    QW06|                  8|2019|    2|                null|                    null|\n",
      "|   Queens West|    QW06|                 10|2018|    4|                null|                    null|\n",
      "|     Manhattan|    MN09|                 11|2018|    5|                null|                    null|\n",
      "|   Queens West|    QW09|                  2|2017|    8|                null|                    null|\n",
      "|         Bronx|    BX09|                 11|2017|    5|                null|                    null|\n",
      "| Staten Island|    SI02|                  8|2016|    2|                null|                    null|\n",
      "|   Queens West|    QW01|                  4|2016|   10|                null|                    null|\n",
      "+--------------+--------+-------------------+----+-----+--------------------+------------------------+\n",
      "\n"
     ]
    }
   ],
   "source": [
    "DiversionRates.where(F.isnull('Diversion Rate-Total')).show()"
   ]
  },
  {
   "cell_type": "code",
   "execution_count": 27,
   "metadata": {},
   "outputs": [
    {
     "name": "stdout",
     "output_type": "stream",
     "text": [
      "+--------------+--------+-------------------+----+-----+--------------------+------------------------+\n",
      "|          Zone|District|Fiscal Month Number|Year|Month|Diversion Rate-Total|Diversion Rate-Total LOG|\n",
      "+--------------+--------+-------------------+----+-----+--------------------+------------------------+\n",
      "|Brooklyn North|   BKN16|                 10|2019|    4|                null|                    null|\n",
      "|Brooklyn North|   BKN17|                  6|2019|   12|                null|                    null|\n",
      "|   Queens West|    QW06|                  8|2019|    2|                null|                    null|\n",
      "|   Queens West|    QW06|                 10|2018|    4|                null|                    null|\n",
      "|     Manhattan|    MN09|                 11|2018|    5|                null|                    null|\n",
      "|   Queens West|    QW09|                  2|2017|    8|                null|                    null|\n",
      "|         Bronx|    BX09|                 11|2017|    5|                null|                    null|\n",
      "| Staten Island|    SI02|                  8|2016|    2|                null|                    null|\n",
      "|   Queens West|    QW01|                  4|2016|   10|                null|                    null|\n",
      "+--------------+--------+-------------------+----+-----+--------------------+------------------------+\n",
      "\n"
     ]
    }
   ],
   "source": [
    "DiversionRates.where(F.isnull('Diversion Rate-Total LOG')).show()"
   ]
  },
  {
   "cell_type": "code",
   "execution_count": 28,
   "metadata": {},
   "outputs": [
    {
     "data": {
      "text/plain": [
       "9"
      ]
     },
     "execution_count": 28,
     "metadata": {},
     "output_type": "execute_result"
    }
   ],
   "source": [
    "DiversionRates.where(F.isnull('Diversion Rate-Total')).count()"
   ]
  },
  {
   "cell_type": "code",
   "execution_count": 29,
   "metadata": {},
   "outputs": [
    {
     "data": {
      "text/plain": [
       "9"
      ]
     },
     "execution_count": 29,
     "metadata": {},
     "output_type": "execute_result"
    }
   ],
   "source": [
    "DiversionRates.where(F.isnull('Diversion Rate-Total LOG')).count()"
   ]
  },
  {
   "cell_type": "code",
   "execution_count": 30,
   "metadata": {},
   "outputs": [
    {
     "name": "stdout",
     "output_type": "stream",
     "text": [
      "+--------------+--------+-------------------+----+-----+--------------------+------------------------+\n",
      "|          Zone|District|Fiscal Month Number|Year|Month|Diversion Rate-Total|Diversion Rate-Total LOG|\n",
      "+--------------+--------+-------------------+----+-----+--------------------+------------------------+\n",
      "|         Bronx|    BX03|                 10|2019|    4|                99.8|                     2.0|\n",
      "|         Bronx|    BX08|                  7|2019|    1|               99.67|                     2.0|\n",
      "|Brooklyn South|   BKS07|                 12|2019|    6|               99.09|                     2.0|\n",
      "|         Bronx|    BX02|                  5|2019|   11|               99.12|                     2.0|\n",
      "|         Bronx|    BX08|                  4|2019|   10|               99.95|                     2.0|\n",
      "|         Bronx|    BX09|                  3|2019|    9|               99.83|                     2.0|\n",
      "| Staten Island|    SI02|                  3|2019|    9|               99.45|                     2.0|\n",
      "|   Queens West|    QW01|                  2|2018|    8|               99.36|                     2.0|\n",
      "|Brooklyn North|   BKN16|                  8|2018|    2|               99.57|                     2.0|\n",
      "|   Queens West|    QW04|                  8|2018|    2|               95.59|                    1.98|\n",
      "|Brooklyn North|   BKN09|                  7|2018|    1|               99.65|                     2.0|\n",
      "|Brooklyn South|   BKS06|                  1|2018|    7|               98.32|                    1.99|\n",
      "|Brooklyn North|   BKN03|                 12|2018|    6|               99.52|                     2.0|\n",
      "|         Bronx|    BX05|                 12|2018|    6|                91.6|                    1.96|\n",
      "|   Queens East|    QE12|                  9|2018|    3|               99.68|                     2.0|\n",
      "|Brooklyn North|   BKN05|                 11|2018|    5|               99.38|                     2.0|\n",
      "|   Queens West|    QW05|                 11|2018|    5|               92.61|                    1.97|\n",
      "|Brooklyn South|   BKS15|                  4|2018|   10|               99.66|                     2.0|\n",
      "|     Manhattan|    MN09|                  4|2018|   10|               98.73|                    1.99|\n",
      "|     Manhattan|    MN12|                  3|2018|    9|               95.66|                    1.98|\n",
      "+--------------+--------+-------------------+----+-----+--------------------+------------------------+\n",
      "only showing top 20 rows\n",
      "\n"
     ]
    }
   ],
   "source": [
    "DiversionRates.filter(DiversionRates[\"Diversion Rate-Total\"] > 90).show()"
   ]
  },
  {
   "cell_type": "code",
   "execution_count": 31,
   "metadata": {},
   "outputs": [
    {
     "data": {
      "text/plain": [
       "42"
      ]
     },
     "execution_count": 31,
     "metadata": {},
     "output_type": "execute_result"
    }
   ],
   "source": [
    "DiversionRates.filter(DiversionRates[\"Diversion Rate-Total\"] > 90).count()"
   ]
  },
  {
   "cell_type": "code",
   "execution_count": 32,
   "metadata": {},
   "outputs": [
    {
     "name": "stdout",
     "output_type": "stream",
     "text": [
      "+----+--------+-------------------+----+-----+--------------------+------------------------+\n",
      "|Zone|District|Fiscal Month Number|Year|Month|Diversion Rate-Total|Diversion Rate-Total LOG|\n",
      "+----+--------+-------------------+----+-----+--------------------+------------------------+\n",
      "+----+--------+-------------------+----+-----+--------------------+------------------------+\n",
      "\n"
     ]
    }
   ],
   "source": [
    "DiversionRates.filter(DiversionRates[\"Diversion Rate-Total LOG\"] > 9).show()"
   ]
  },
  {
   "cell_type": "code",
   "execution_count": 33,
   "metadata": {},
   "outputs": [
    {
     "name": "stdout",
     "output_type": "stream",
     "text": [
      "+--------------+--------+----+-----+-------------------+----------------+------------------+-------------------+--------------------+------------------------+\n",
      "|          Zone|District|Year|Month|Capture Rate-Paper |Capture Rate-MGP|Capture Rate-Total|Fiscal Month Number|Diversion Rate-Total|Diversion Rate-Total LOG|\n",
      "+--------------+--------+----+-----+-------------------+----------------+------------------+-------------------+--------------------+------------------------+\n",
      "|         Bronx|    BX12|2018|    2|               33.6|           74.54|              48.5|                  8|               20.09|                     1.3|\n",
      "|Brooklyn North|   BKN01|2016|    3|               42.8|            null|             44.39|                  9|               14.24|                    1.15|\n",
      "|Brooklyn North|   BKN02|2018|    4|              35.72|           58.69|             42.51|                 10|               20.33|                    1.31|\n",
      "|Brooklyn North|   BKN03|2017|    1|               36.5|           44.25|             39.68|                  7|               12.99|                    1.11|\n",
      "|Brooklyn North|   BKN05|2019|    5|              21.68|           43.85|              30.7|                 11|                9.79|                    0.99|\n",
      "|Brooklyn North|   BKN16|2018|    4|               20.7|           35.88|             26.88|                 10|                9.29|                    0.97|\n",
      "|Brooklyn South|   BKS10|2019|    2|              48.28|           77.53|             58.92|                  8|               24.33|                    1.39|\n",
      "|     Manhattan|    MN03|2019|    4|              40.99|           44.87|             42.68|                 10|               14.11|                    1.15|\n",
      "|     Manhattan|    MN11|2017|   11|              41.82|           32.05|             37.56|                  5|               11.94|                    1.08|\n",
      "|   Queens East|    QE12|2018|    4|              36.93|           67.67|             51.04|                 10|               14.03|                    1.15|\n",
      "|   Queens West|    QW03|2016|    4|              33.52|           59.06|             43.22|                 10|               14.17|                    1.15|\n",
      "|   Queens West|    QW09|2017|   10|              41.74|           82.11|             55.51|                  4|               18.41|                    1.26|\n",
      "|         Bronx|    BX05|2017|    6|               30.4|           52.05|             39.86|                 12|               11.87|                    1.07|\n",
      "|         Bronx|    BX07|2016|    7|              32.11|           52.03|             40.65|                  1|               12.71|                     1.1|\n",
      "|Brooklyn North|   BKN03|2019|   10|              39.99|           42.46|             41.11|                  4|               12.33|                    1.09|\n",
      "|Brooklyn North|   BKN16|2017|    6|              22.39|           34.32|             27.24|                 12|                9.63|                    0.98|\n",
      "|Brooklyn South|   BKS10|2018|   10|              54.28|           86.76|             65.36|                  4|               23.98|                    1.38|\n",
      "|Brooklyn South|   BKS12|2017|    2|               48.2|           41.81|             45.58|                  8|               14.41|                    1.16|\n",
      "|Brooklyn South|   BKS15|2019|   10|              45.85|           70.38|             54.22|                  4|               19.05|                    1.28|\n",
      "|     Manhattan|    MN01|2018|    5|              45.94|           74.99|             52.93|                 11|                27.1|                    1.43|\n",
      "+--------------+--------+----+-----+-------------------+----------------+------------------+-------------------+--------------------+------------------------+\n",
      "only showing top 20 rows\n",
      "\n"
     ]
    }
   ],
   "source": [
    "RecyclingRates = CaptureRates.join(DiversionRates, on=['Zone','District','Year','Month'], how = 'outer')\n",
    "RecyclingRates.show()"
   ]
  },
  {
   "cell_type": "code",
   "execution_count": 34,
   "metadata": {},
   "outputs": [
    {
     "data": {
      "text/plain": [
       "['Zone',\n",
       " 'District',\n",
       " 'Year',\n",
       " 'Month',\n",
       " 'Capture Rate-Paper ',\n",
       " 'Capture Rate-MGP',\n",
       " 'Capture Rate-Total',\n",
       " 'Fiscal Month Number',\n",
       " 'Diversion Rate-Total',\n",
       " 'Diversion Rate-Total LOG']"
      ]
     },
     "execution_count": 34,
     "metadata": {},
     "output_type": "execute_result"
    }
   ],
   "source": [
    "RecyclingRates.columns"
   ]
  },
  {
   "cell_type": "code",
   "execution_count": 35,
   "metadata": {},
   "outputs": [
    {
     "data": {
      "text/plain": [
       "2798"
      ]
     },
     "execution_count": 35,
     "metadata": {},
     "output_type": "execute_result"
    }
   ],
   "source": [
    "RecyclingRates2 = RecyclingRates.na.drop()\n",
    "RecyclingRates2.count()"
   ]
  },
  {
   "cell_type": "code",
   "execution_count": 36,
   "metadata": {},
   "outputs": [
    {
     "data": {
      "text/plain": [
       "2832"
      ]
     },
     "execution_count": 36,
     "metadata": {},
     "output_type": "execute_result"
    }
   ],
   "source": [
    "RecyclingRates.count()"
   ]
  },
  {
   "cell_type": "code",
   "execution_count": 37,
   "metadata": {},
   "outputs": [
    {
     "name": "stdout",
     "output_type": "stream",
     "text": [
      "+--------------+--------+----+-----+-------------------+----------------+------------------+-------------------+--------------------+------------------------+\n",
      "|          Zone|District|Year|Month|Capture Rate-Paper |Capture Rate-MGP|Capture Rate-Total|Fiscal Month Number|Diversion Rate-Total|Diversion Rate-Total LOG|\n",
      "+--------------+--------+----+-----+-------------------+----------------+------------------+-------------------+--------------------+------------------------+\n",
      "|         Bronx|    BX12|2018|    2|               33.6|           74.54|              48.5|                  8|               20.09|                     1.3|\n",
      "|Brooklyn North|   BKN02|2018|    4|              35.72|           58.69|             42.51|                 10|               20.33|                    1.31|\n",
      "|Brooklyn North|   BKN03|2017|    1|               36.5|           44.25|             39.68|                  7|               12.99|                    1.11|\n",
      "|Brooklyn North|   BKN05|2019|    5|              21.68|           43.85|              30.7|                 11|                9.79|                    0.99|\n",
      "|Brooklyn North|   BKN16|2018|    4|               20.7|           35.88|             26.88|                 10|                9.29|                    0.97|\n",
      "|Brooklyn South|   BKS10|2019|    2|              48.28|           77.53|             58.92|                  8|               24.33|                    1.39|\n",
      "|     Manhattan|    MN03|2019|    4|              40.99|           44.87|             42.68|                 10|               14.11|                    1.15|\n",
      "|     Manhattan|    MN11|2017|   11|              41.82|           32.05|             37.56|                  5|               11.94|                    1.08|\n",
      "|   Queens East|    QE12|2018|    4|              36.93|           67.67|             51.04|                 10|               14.03|                    1.15|\n",
      "|   Queens West|    QW03|2016|    4|              33.52|           59.06|             43.22|                 10|               14.17|                    1.15|\n",
      "|   Queens West|    QW09|2017|   10|              41.74|           82.11|             55.51|                  4|               18.41|                    1.26|\n",
      "|         Bronx|    BX05|2017|    6|               30.4|           52.05|             39.86|                 12|               11.87|                    1.07|\n",
      "|         Bronx|    BX07|2016|    7|              32.11|           52.03|             40.65|                  1|               12.71|                     1.1|\n",
      "|Brooklyn North|   BKN03|2019|   10|              39.99|           42.46|             41.11|                  4|               12.33|                    1.09|\n",
      "|Brooklyn North|   BKN16|2017|    6|              22.39|           34.32|             27.24|                 12|                9.63|                    0.98|\n",
      "|Brooklyn South|   BKS10|2018|   10|              54.28|           86.76|             65.36|                  4|               23.98|                    1.38|\n",
      "|Brooklyn South|   BKS12|2017|    2|               48.2|           41.81|             45.58|                  8|               14.41|                    1.16|\n",
      "|Brooklyn South|   BKS15|2019|   10|              45.85|           70.38|             54.22|                  4|               19.05|                    1.28|\n",
      "|     Manhattan|    MN01|2018|    5|              45.94|           74.99|             52.93|                 11|                27.1|                    1.43|\n",
      "|   Queens East|    QE08|2018|    4|               30.5|           52.79|             37.09|                 10|               17.48|                    1.24|\n",
      "+--------------+--------+----+-----+-------------------+----------------+------------------+-------------------+--------------------+------------------------+\n",
      "only showing top 20 rows\n",
      "\n"
     ]
    }
   ],
   "source": [
    "RecyclingRates2.show()"
   ]
  },
  {
   "cell_type": "code",
   "execution_count": 38,
   "metadata": {},
   "outputs": [
    {
     "data": {
      "text/plain": [
       "2797"
      ]
     },
     "execution_count": 38,
     "metadata": {},
     "output_type": "execute_result"
    }
   ],
   "source": [
    "RecyclingRates3 = RecyclingRates2.filter(RecyclingRates2[\"Capture Rate-Paper \"] < 99)\n",
    "RecyclingRates3.count()"
   ]
  },
  {
   "cell_type": "code",
   "execution_count": 39,
   "metadata": {},
   "outputs": [
    {
     "data": {
      "text/plain": [
       "2794"
      ]
     },
     "execution_count": 39,
     "metadata": {},
     "output_type": "execute_result"
    }
   ],
   "source": [
    "RecyclingRates4 = RecyclingRates3.filter(RecyclingRates3[\"Capture Rate-MGP\"] < 99)\n",
    "RecyclingRates4.count()"
   ]
  },
  {
   "cell_type": "code",
   "execution_count": 40,
   "metadata": {},
   "outputs": [
    {
     "data": {
      "text/plain": [
       "2792"
      ]
     },
     "execution_count": 40,
     "metadata": {},
     "output_type": "execute_result"
    }
   ],
   "source": [
    "RecyclingRates5 = RecyclingRates4.filter(RecyclingRates4[\"Capture Rate-Total\"] < 99)\n",
    "RecyclingRates5.count()"
   ]
  },
  {
   "cell_type": "code",
   "execution_count": 41,
   "metadata": {},
   "outputs": [
    {
     "data": {
      "text/plain": [
       "2750"
      ]
     },
     "execution_count": 41,
     "metadata": {},
     "output_type": "execute_result"
    }
   ],
   "source": [
    "RecyclingRates6 = RecyclingRates5.filter(RecyclingRates5[\"Diversion Rate-Total\"] < 90)\n",
    "RecyclingRates6.count()"
   ]
  },
  {
   "cell_type": "code",
   "execution_count": 42,
   "metadata": {},
   "outputs": [],
   "source": [
    "RecyclingRates7 = RecyclingRates6.withColumn(\n",
    "    'Recycling System Efficiency',\n",
    "    F.when((F.col(\"Capture Rate-Total\") >= 46) & (F.col(\"Diversion Rate-Total\") >= 19), 'High')\\\n",
    "    .when((F.col(\"Capture Rate-Total\") <= 46) & (F.col(\"Diversion Rate-Total\") <= 19), 'Low')\\\n",
    "    .otherwise('Medium')\n",
    ")"
   ]
  },
  {
   "cell_type": "code",
   "execution_count": 43,
   "metadata": {},
   "outputs": [
    {
     "data": {
      "text/plain": [
       "['Zone',\n",
       " 'District',\n",
       " 'Year',\n",
       " 'Month',\n",
       " 'Capture Rate-Paper ',\n",
       " 'Capture Rate-MGP',\n",
       " 'Capture Rate-Total',\n",
       " 'Fiscal Month Number',\n",
       " 'Diversion Rate-Total',\n",
       " 'Diversion Rate-Total LOG',\n",
       " 'Recycling System Efficiency']"
      ]
     },
     "execution_count": 43,
     "metadata": {},
     "output_type": "execute_result"
    }
   ],
   "source": [
    "RecyclingRates7.columns"
   ]
  },
  {
   "cell_type": "code",
   "execution_count": 44,
   "metadata": {},
   "outputs": [
    {
     "name": "stdout",
     "output_type": "stream",
     "text": [
      "+------------------+--------------------+---------------------------+\n",
      "|Capture Rate-Total|Diversion Rate-Total|Recycling System Efficiency|\n",
      "+------------------+--------------------+---------------------------+\n",
      "|             44.15|               14.69|                        Low|\n",
      "|             41.21|               19.95|                     Medium|\n",
      "|             38.16|               12.16|                        Low|\n",
      "|             48.75|               15.54|                     Medium|\n",
      "|             31.53|               10.05|                        Low|\n",
      "|             50.55|               16.45|                     Medium|\n",
      "|             39.24|               13.97|                        Low|\n",
      "|             57.24|               28.95|                       High|\n",
      "|             57.31|               20.38|                       High|\n",
      "|             61.27|               23.77|                       High|\n",
      "|             52.51|               18.38|                     Medium|\n",
      "|             45.32|               14.94|                        Low|\n",
      "|             45.56|               14.35|                        Low|\n",
      "|             45.12|                15.0|                        Low|\n",
      "|             52.87|               18.66|                     Medium|\n",
      "|              50.3|               14.73|                     Medium|\n",
      "|             23.24|                7.15|                        Low|\n",
      "|             44.96|               13.39|                        Low|\n",
      "|             40.16|               12.25|                        Low|\n",
      "|             38.34|               11.42|                        Low|\n",
      "+------------------+--------------------+---------------------------+\n",
      "only showing top 20 rows\n",
      "\n"
     ]
    }
   ],
   "source": [
    "RecyclingRates7.select('Capture Rate-Total','Diversion Rate-Total','Recycling System Efficiency').show()"
   ]
  },
  {
   "cell_type": "code",
   "execution_count": 45,
   "metadata": {},
   "outputs": [],
   "source": [
    "RecyclingRatesEdited = RecyclingRates7.sort('Year','Month','District')"
   ]
  },
  {
   "cell_type": "code",
   "execution_count": 46,
   "metadata": {},
   "outputs": [
    {
     "name": "stdout",
     "output_type": "stream",
     "text": [
      "+--------------+--------+----+-----+-------------------+----------------+------------------+-------------------+--------------------+------------------------+---------------------------+\n",
      "|          Zone|District|Year|Month|Capture Rate-Paper |Capture Rate-MGP|Capture Rate-Total|Fiscal Month Number|Diversion Rate-Total|Diversion Rate-Total LOG|Recycling System Efficiency|\n",
      "+--------------+--------+----+-----+-------------------+----------------+------------------+-------------------+--------------------+------------------------+---------------------------+\n",
      "|Brooklyn North|   BKN01|2016|    1|              40.52|           42.37|             41.28|                  7|               14.14|                    1.15|                        Low|\n",
      "|Brooklyn North|   BKN02|2016|    1|              28.17|           49.98|             34.37|                  7|               17.68|                    1.25|                        Low|\n",
      "|Brooklyn North|   BKN03|2016|    1|              29.01|           36.25|             31.98|                  7|               10.58|                    1.02|                        Low|\n",
      "|Brooklyn North|   BKN04|2016|    1|              30.32|            55.0|             40.43|                  7|               13.46|                    1.13|                        Low|\n",
      "|Brooklyn North|   BKN05|2016|    1|              21.13|           35.87|             27.17|                  7|                9.13|                    0.96|                        Low|\n",
      "|Brooklyn North|   BKN08|2016|    1|              36.11|            46.3|             40.29|                  7|               14.71|                    1.17|                        Low|\n",
      "|Brooklyn North|   BKN09|2016|    1|              27.79|           38.91|             31.84|                  7|               11.92|                    1.08|                        Low|\n",
      "|Brooklyn North|   BKN16|2016|    1|              21.17|           31.44|             25.37|                  7|                 8.3|                    0.92|                        Low|\n",
      "|Brooklyn North|   BKN17|2016|    1|              25.28|           52.95|             35.35|                  7|               13.02|                    1.11|                        Low|\n",
      "|Brooklyn South|   BKS06|2016|    1|              41.26|           75.03|             50.85|                  7|                29.6|                    1.47|                       High|\n",
      "|Brooklyn South|   BKS07|2016|    1|              36.42|           59.69|             44.89|                  7|               18.66|                    1.27|                        Low|\n",
      "|Brooklyn South|   BKS10|2016|    1|              45.89|           65.15|              52.9|                  7|               23.34|                    1.37|                       High|\n",
      "|Brooklyn South|   BKS11|2016|    1|              38.01|           53.78|             43.75|                  7|               15.93|                     1.2|                        Low|\n",
      "|Brooklyn South|   BKS12|2016|    1|              42.43|           35.92|             39.76|                  7|               12.66|                     1.1|                        Low|\n",
      "|Brooklyn South|   BKS13|2016|    1|              38.53|           44.68|              41.3|                  7|               12.95|                    1.11|                        Low|\n",
      "|Brooklyn South|   BKS14|2016|    1|              25.19|           44.34|             31.18|                  7|               12.98|                    1.11|                        Low|\n",
      "|Brooklyn South|   BKS15|2016|    1|              40.29|           51.85|              44.5|                  7|               16.74|                    1.22|                        Low|\n",
      "|Brooklyn South|   BKS18|2016|    1|              28.43|           54.67|             36.82|                  7|               14.58|                    1.16|                        Low|\n",
      "|         Bronx|    BX01|2016|    1|              16.92|           20.41|             18.49|                  7|                5.94|                    0.77|                        Low|\n",
      "|         Bronx|    BX02|2016|    1|              32.67|            52.1|             41.41|                  7|               13.37|                    1.13|                        Low|\n",
      "+--------------+--------+----+-----+-------------------+----------------+------------------+-------------------+--------------------+------------------------+---------------------------+\n",
      "only showing top 20 rows\n",
      "\n"
     ]
    }
   ],
   "source": [
    "RecyclingRatesEdited.show()"
   ]
  },
  {
   "cell_type": "code",
   "execution_count": 47,
   "metadata": {},
   "outputs": [],
   "source": [
    "RecyclingRatesEdited = RecyclingRatesEdited.drop('Fiscal Month Number')"
   ]
  },
  {
   "cell_type": "code",
   "execution_count": 48,
   "metadata": {},
   "outputs": [
    {
     "data": {
      "text/plain": [
       "['Zone',\n",
       " 'District',\n",
       " 'Year',\n",
       " 'Month',\n",
       " 'Capture Rate-Paper ',\n",
       " 'Capture Rate-MGP',\n",
       " 'Capture Rate-Total',\n",
       " 'Diversion Rate-Total',\n",
       " 'Diversion Rate-Total LOG',\n",
       " 'Recycling System Efficiency']"
      ]
     },
     "execution_count": 48,
     "metadata": {},
     "output_type": "execute_result"
    }
   ],
   "source": [
    "RecyclingRatesEdited.columns"
   ]
  },
  {
   "cell_type": "code",
   "execution_count": 49,
   "metadata": {},
   "outputs": [],
   "source": [
    "from pyspark.ml.regression import LinearRegression"
   ]
  },
  {
   "cell_type": "code",
   "execution_count": 50,
   "metadata": {},
   "outputs": [
    {
     "name": "stdout",
     "output_type": "stream",
     "text": [
      "root\n",
      " |-- Zone: string (nullable = true)\n",
      " |-- District: string (nullable = true)\n",
      " |-- Year: integer (nullable = true)\n",
      " |-- Month: integer (nullable = true)\n",
      " |-- Capture Rate-Paper : double (nullable = true)\n",
      " |-- Capture Rate-MGP: double (nullable = true)\n",
      " |-- Capture Rate-Total: double (nullable = true)\n",
      " |-- Diversion Rate-Total: double (nullable = true)\n",
      " |-- Diversion Rate-Total LOG: double (nullable = true)\n",
      " |-- Recycling System Efficiency: string (nullable = false)\n",
      "\n"
     ]
    }
   ],
   "source": [
    "RecyclingRatesEdited.printSchema()"
   ]
  },
  {
   "cell_type": "code",
   "execution_count": 51,
   "metadata": {},
   "outputs": [],
   "source": [
    "from pyspark.ml.linalg import Vectors\n",
    "from pyspark.ml.feature import VectorAssembler"
   ]
  },
  {
   "cell_type": "code",
   "execution_count": 52,
   "metadata": {},
   "outputs": [],
   "source": [
    "assembler = VectorAssembler(\n",
    "    inputCols=[\"Capture Rate-Paper \", \"Capture Rate-MGP\"],\n",
    "    outputCol=\"features\")"
   ]
  },
  {
   "cell_type": "code",
   "execution_count": 53,
   "metadata": {},
   "outputs": [],
   "source": [
    "output = assembler.transform(RecyclingRatesEdited)"
   ]
  },
  {
   "cell_type": "code",
   "execution_count": 54,
   "metadata": {},
   "outputs": [
    {
     "name": "stdout",
     "output_type": "stream",
     "text": [
      "root\n",
      " |-- Zone: string (nullable = true)\n",
      " |-- District: string (nullable = true)\n",
      " |-- Year: integer (nullable = true)\n",
      " |-- Month: integer (nullable = true)\n",
      " |-- Capture Rate-Paper : double (nullable = true)\n",
      " |-- Capture Rate-MGP: double (nullable = true)\n",
      " |-- Capture Rate-Total: double (nullable = true)\n",
      " |-- Diversion Rate-Total: double (nullable = true)\n",
      " |-- Diversion Rate-Total LOG: double (nullable = true)\n",
      " |-- Recycling System Efficiency: string (nullable = false)\n",
      " |-- features: vector (nullable = true)\n",
      "\n"
     ]
    }
   ],
   "source": [
    "output.printSchema()"
   ]
  },
  {
   "cell_type": "code",
   "execution_count": 55,
   "metadata": {},
   "outputs": [
    {
     "name": "stdout",
     "output_type": "stream",
     "text": [
      "+-------------+------------------+\n",
      "|     features|Capture Rate-Total|\n",
      "+-------------+------------------+\n",
      "|[40.52,42.37]|             41.28|\n",
      "|[28.17,49.98]|             34.37|\n",
      "|[29.01,36.25]|             31.98|\n",
      "| [30.32,55.0]|             40.43|\n",
      "|[21.13,35.87]|             27.17|\n",
      "| [36.11,46.3]|             40.29|\n",
      "|[27.79,38.91]|             31.84|\n",
      "|[21.17,31.44]|             25.37|\n",
      "|[25.28,52.95]|             35.35|\n",
      "|[41.26,75.03]|             50.85|\n",
      "|[36.42,59.69]|             44.89|\n",
      "|[45.89,65.15]|              52.9|\n",
      "|[38.01,53.78]|             43.75|\n",
      "|[42.43,35.92]|             39.76|\n",
      "|[38.53,44.68]|              41.3|\n",
      "|[25.19,44.34]|             31.18|\n",
      "|[40.29,51.85]|              44.5|\n",
      "|[28.43,54.67]|             36.82|\n",
      "|[16.92,20.41]|             18.49|\n",
      "| [32.67,52.1]|             41.41|\n",
      "+-------------+------------------+\n",
      "only showing top 20 rows\n",
      "\n"
     ]
    }
   ],
   "source": [
    "final_data = output.select(\"features\",'Capture Rate-Total')\n",
    "final_data.show()"
   ]
  },
  {
   "cell_type": "code",
   "execution_count": 56,
   "metadata": {},
   "outputs": [],
   "source": [
    "train_data,test_data = final_data.randomSplit([0.7,0.3])"
   ]
  },
  {
   "cell_type": "code",
   "execution_count": 57,
   "metadata": {},
   "outputs": [
    {
     "name": "stdout",
     "output_type": "stream",
     "text": [
      "+-------+------------------+\n",
      "|summary|Capture Rate-Total|\n",
      "+-------+------------------+\n",
      "|  count|              1913|\n",
      "|   mean| 46.14708311552535|\n",
      "| stddev| 9.499126179912324|\n",
      "|    min|             18.49|\n",
      "|    max|             75.52|\n",
      "+-------+------------------+\n",
      "\n"
     ]
    }
   ],
   "source": [
    "train_data.describe().show()"
   ]
  },
  {
   "cell_type": "code",
   "execution_count": 58,
   "metadata": {},
   "outputs": [
    {
     "name": "stdout",
     "output_type": "stream",
     "text": [
      "+-------+------------------+\n",
      "|summary|Capture Rate-Total|\n",
      "+-------+------------------+\n",
      "|  count|               837|\n",
      "|   mean| 46.16514934289129|\n",
      "| stddev| 9.460591967019086|\n",
      "|    min|             19.02|\n",
      "|    max|             73.98|\n",
      "+-------+------------------+\n",
      "\n"
     ]
    }
   ],
   "source": [
    "test_data.describe().show()"
   ]
  },
  {
   "cell_type": "code",
   "execution_count": 59,
   "metadata": {},
   "outputs": [],
   "source": [
    "lr = LinearRegression(labelCol='Capture Rate-Total')"
   ]
  },
  {
   "cell_type": "code",
   "execution_count": 60,
   "metadata": {},
   "outputs": [],
   "source": [
    "lrModel = lr.fit(train_data)"
   ]
  },
  {
   "cell_type": "code",
   "execution_count": 61,
   "metadata": {},
   "outputs": [
    {
     "name": "stdout",
     "output_type": "stream",
     "text": [
      "Coefficients: [0.6647775466630147,0.30696237073908067] Intercept: 1.792125062631842\n"
     ]
    }
   ],
   "source": [
    "print(\"Coefficients: {} Intercept: {}\".format(lrModel.coefficients,lrModel.intercept))"
   ]
  },
  {
   "cell_type": "code",
   "execution_count": 62,
   "metadata": {},
   "outputs": [],
   "source": [
    "test_results = lrModel.evaluate(test_data)"
   ]
  },
  {
   "cell_type": "code",
   "execution_count": 63,
   "metadata": {},
   "outputs": [
    {
     "name": "stdout",
     "output_type": "stream",
     "text": [
      "+--------------------+\n",
      "|           residuals|\n",
      "+--------------------+\n",
      "| -1.2647247244913373|\n",
      "| 0.43999298260782993|\n",
      "| -0.6533835225668909|\n",
      "| 0.12864636517036843|\n",
      "|0.007988659493967987|\n",
      "| -1.8964463048973315|\n",
      "| -1.1923754669648687|\n",
      "|  -2.776009763981932|\n",
      "| -0.3349943939192457|\n",
      "|  1.1874624001712704|\n",
      "|  1.0815549461396259|\n",
      "|-0.10108429189953938|\n",
      "|  1.3600930805749059|\n",
      "| -1.3124296474268675|\n",
      "|  1.1687916722206637|\n",
      "|  0.8559188687641353|\n",
      "|   3.046699753028271|\n",
      "| -0.6046731741877522|\n",
      "|   0.482979599507388|\n",
      "| -2.6503986890263107|\n",
      "+--------------------+\n",
      "only showing top 20 rows\n",
      "\n",
      "RSME: 1.5528689559508062\n"
     ]
    }
   ],
   "source": [
    "test_results.residuals.show()\n",
    "print(\"RSME: {}\".format(test_results.rootMeanSquaredError))"
   ]
  },
  {
   "cell_type": "code",
   "execution_count": 64,
   "metadata": {},
   "outputs": [
    {
     "name": "stdout",
     "output_type": "stream",
     "text": [
      "R2: 0.973025576444335\n"
     ]
    }
   ],
   "source": [
    "print(\"R2: {}\".format(test_results.r2))"
   ]
  },
  {
   "cell_type": "code",
   "execution_count": 65,
   "metadata": {},
   "outputs": [],
   "source": [
    "assembler2 = VectorAssembler(\n",
    "    inputCols=[\"Capture Rate-Paper \",\n",
    "               \"Capture Rate-MGP\",\n",
    "               \"Capture Rate-Total\"],\n",
    "    outputCol=\"features\")"
   ]
  },
  {
   "cell_type": "code",
   "execution_count": 66,
   "metadata": {},
   "outputs": [],
   "source": [
    "output2 = assembler2.transform(RecyclingRatesEdited)"
   ]
  },
  {
   "cell_type": "code",
   "execution_count": 67,
   "metadata": {},
   "outputs": [
    {
     "name": "stdout",
     "output_type": "stream",
     "text": [
      "root\n",
      " |-- Zone: string (nullable = true)\n",
      " |-- District: string (nullable = true)\n",
      " |-- Year: integer (nullable = true)\n",
      " |-- Month: integer (nullable = true)\n",
      " |-- Capture Rate-Paper : double (nullable = true)\n",
      " |-- Capture Rate-MGP: double (nullable = true)\n",
      " |-- Capture Rate-Total: double (nullable = true)\n",
      " |-- Diversion Rate-Total: double (nullable = true)\n",
      " |-- Diversion Rate-Total LOG: double (nullable = true)\n",
      " |-- Recycling System Efficiency: string (nullable = false)\n",
      " |-- features: vector (nullable = true)\n",
      "\n"
     ]
    }
   ],
   "source": [
    "output2.printSchema()"
   ]
  },
  {
   "cell_type": "code",
   "execution_count": 68,
   "metadata": {},
   "outputs": [
    {
     "name": "stdout",
     "output_type": "stream",
     "text": [
      "+-------------------+--------------------+\n",
      "|           features|Diversion Rate-Total|\n",
      "+-------------------+--------------------+\n",
      "|[40.52,42.37,41.28]|               14.14|\n",
      "|[28.17,49.98,34.37]|               17.68|\n",
      "|[29.01,36.25,31.98]|               10.58|\n",
      "| [30.32,55.0,40.43]|               13.46|\n",
      "|[21.13,35.87,27.17]|                9.13|\n",
      "| [36.11,46.3,40.29]|               14.71|\n",
      "|[27.79,38.91,31.84]|               11.92|\n",
      "|[21.17,31.44,25.37]|                 8.3|\n",
      "|[25.28,52.95,35.35]|               13.02|\n",
      "|[41.26,75.03,50.85]|                29.6|\n",
      "|[36.42,59.69,44.89]|               18.66|\n",
      "| [45.89,65.15,52.9]|               23.34|\n",
      "|[38.01,53.78,43.75]|               15.93|\n",
      "|[42.43,35.92,39.76]|               12.66|\n",
      "| [38.53,44.68,41.3]|               12.95|\n",
      "|[25.19,44.34,31.18]|               12.98|\n",
      "| [40.29,51.85,44.5]|               16.74|\n",
      "|[28.43,54.67,36.82]|               14.58|\n",
      "|[16.92,20.41,18.49]|                5.94|\n",
      "| [32.67,52.1,41.41]|               13.37|\n",
      "+-------------------+--------------------+\n",
      "only showing top 20 rows\n",
      "\n"
     ]
    }
   ],
   "source": [
    "final_data2 = output2.select(\"features\",'Diversion Rate-Total')\n",
    "final_data2.show()"
   ]
  },
  {
   "cell_type": "code",
   "execution_count": 69,
   "metadata": {},
   "outputs": [],
   "source": [
    "train_data2,test_data2 = final_data2.randomSplit([0.7,0.3])"
   ]
  },
  {
   "cell_type": "code",
   "execution_count": 70,
   "metadata": {},
   "outputs": [
    {
     "name": "stdout",
     "output_type": "stream",
     "text": [
      "+-------+--------------------+\n",
      "|summary|Diversion Rate-Total|\n",
      "+-------+--------------------+\n",
      "|  count|                1984|\n",
      "|   mean|  17.566189516129032|\n",
      "| stddev|   5.282104584493187|\n",
      "|    min|                5.92|\n",
      "|    max|               33.75|\n",
      "+-------+--------------------+\n",
      "\n"
     ]
    }
   ],
   "source": [
    "train_data2.describe().show()"
   ]
  },
  {
   "cell_type": "code",
   "execution_count": 71,
   "metadata": {},
   "outputs": [
    {
     "name": "stdout",
     "output_type": "stream",
     "text": [
      "+-------+--------------------+\n",
      "|summary|Diversion Rate-Total|\n",
      "+-------+--------------------+\n",
      "|  count|                 766|\n",
      "|   mean|  17.322271540469963|\n",
      "| stddev|   5.205971891020058|\n",
      "|    min|                6.36|\n",
      "|    max|               31.73|\n",
      "+-------+--------------------+\n",
      "\n"
     ]
    }
   ],
   "source": [
    "test_data2.describe().show()"
   ]
  },
  {
   "cell_type": "code",
   "execution_count": 72,
   "metadata": {},
   "outputs": [],
   "source": [
    "lr2 = LinearRegression(labelCol='Diversion Rate-Total')"
   ]
  },
  {
   "cell_type": "code",
   "execution_count": 73,
   "metadata": {},
   "outputs": [],
   "source": [
    "lrModel2 = lr2.fit(train_data2)"
   ]
  },
  {
   "cell_type": "code",
   "execution_count": 74,
   "metadata": {},
   "outputs": [
    {
     "name": "stdout",
     "output_type": "stream",
     "text": [
      "Coefficients: [0.9478681626529425,0.5860548049427269,-1.1803086590722003] Intercept: -0.3230038113872356\n"
     ]
    }
   ],
   "source": [
    "print(\"Coefficients: {} Intercept: {}\".format(lrModel2.coefficients,lrModel2.intercept))"
   ]
  },
  {
   "cell_type": "code",
   "execution_count": 75,
   "metadata": {},
   "outputs": [],
   "source": [
    "test_results2 = lrModel2.evaluate(test_data2)"
   ]
  },
  {
   "cell_type": "code",
   "execution_count": 76,
   "metadata": {},
   "outputs": [
    {
     "name": "stdout",
     "output_type": "stream",
     "text": [
      "+--------------------+\n",
      "|           residuals|\n",
      "+--------------------+\n",
      "|  0.3450113735377993|\n",
      "|-0.05261477823290228|\n",
      "| -1.3570586388091836|\n",
      "|  4.4221913501444305|\n",
      "| 0.44948459215432557|\n",
      "| 0.40952422590012993|\n",
      "|  1.0101892305327116|\n",
      "|  1.8588660958733882|\n",
      "|  -1.611131151334975|\n",
      "|   4.619023447470482|\n",
      "|   0.990862477286063|\n",
      "|  0.7127546613651639|\n",
      "|   0.349323341092477|\n",
      "|   2.311287363669649|\n",
      "| 0.45960754863149944|\n",
      "|-0.12879480845114344|\n",
      "| -0.1458668312909932|\n",
      "|  1.4476548006766023|\n",
      "| -1.2465340521110235|\n",
      "|  0.3436709090625669|\n",
      "+--------------------+\n",
      "only showing top 20 rows\n",
      "\n",
      "RSME: 1.8847102316975823\n"
     ]
    }
   ],
   "source": [
    "test_results2.residuals.show()\n",
    "print(\"RSME: {}\".format(test_results2.rootMeanSquaredError))"
   ]
  },
  {
   "cell_type": "code",
   "execution_count": 77,
   "metadata": {},
   "outputs": [
    {
     "name": "stdout",
     "output_type": "stream",
     "text": [
      "R2: 0.8687640337220157\n"
     ]
    }
   ],
   "source": [
    "print(\"R2: {}\".format(test_results2.r2))"
   ]
  },
  {
   "cell_type": "code",
   "execution_count": 78,
   "metadata": {},
   "outputs": [
    {
     "data": {
      "text/plain": [
       "['Zone',\n",
       " 'District',\n",
       " 'Year',\n",
       " 'Month',\n",
       " 'Capture Rate-Paper ',\n",
       " 'Capture Rate-MGP',\n",
       " 'Capture Rate-Total',\n",
       " 'Diversion Rate-Total',\n",
       " 'Diversion Rate-Total LOG',\n",
       " 'Recycling System Efficiency']"
      ]
     },
     "execution_count": 78,
     "metadata": {},
     "output_type": "execute_result"
    }
   ],
   "source": [
    "RecyclingRatesEdited.columns"
   ]
  },
  {
   "cell_type": "code",
   "execution_count": 78,
   "metadata": {},
   "outputs": [],
   "source": [
    "assembler3 = VectorAssembler(\n",
    "  inputCols=['Year',\n",
    "             'Month',\n",
    "             'Capture Rate-Paper ',\n",
    "             'Capture Rate-MGP',\n",
    "             'Capture Rate-Total',\n",
    "             'Diversion Rate-Total',],\n",
    "              outputCol=\"features\")"
   ]
  },
  {
   "cell_type": "code",
   "execution_count": 79,
   "metadata": {},
   "outputs": [],
   "source": [
    "output3 = assembler3.transform(RecyclingRatesEdited)"
   ]
  },
  {
   "cell_type": "code",
   "execution_count": 80,
   "metadata": {},
   "outputs": [
    {
     "name": "stdout",
     "output_type": "stream",
     "text": [
      "+--------------------+---------------------------+\n",
      "|            features|Recycling System Efficiency|\n",
      "+--------------------+---------------------------+\n",
      "|[2016.0,1.0,40.52...|                        Low|\n",
      "|[2016.0,1.0,28.17...|                        Low|\n",
      "|[2016.0,1.0,29.01...|                        Low|\n",
      "|[2016.0,1.0,30.32...|                        Low|\n",
      "|[2016.0,1.0,21.13...|                        Low|\n",
      "|[2016.0,1.0,36.11...|                        Low|\n",
      "|[2016.0,1.0,27.79...|                        Low|\n",
      "|[2016.0,1.0,21.17...|                        Low|\n",
      "|[2016.0,1.0,25.28...|                        Low|\n",
      "|[2016.0,1.0,41.26...|                       High|\n",
      "|[2016.0,1.0,36.42...|                        Low|\n",
      "|[2016.0,1.0,45.89...|                       High|\n",
      "|[2016.0,1.0,38.01...|                        Low|\n",
      "|[2016.0,1.0,42.43...|                        Low|\n",
      "|[2016.0,1.0,38.53...|                        Low|\n",
      "|[2016.0,1.0,25.19...|                        Low|\n",
      "|[2016.0,1.0,40.29...|                        Low|\n",
      "|[2016.0,1.0,28.43...|                        Low|\n",
      "|[2016.0,1.0,16.92...|                        Low|\n",
      "|[2016.0,1.0,32.67...|                        Low|\n",
      "+--------------------+---------------------------+\n",
      "only showing top 20 rows\n",
      "\n"
     ]
    }
   ],
   "source": [
    "final_data3 = output3.select(\"features\",'Recycling System Efficiency')\n",
    "final_data3.show()"
   ]
  },
  {
   "cell_type": "code",
   "execution_count": 81,
   "metadata": {},
   "outputs": [],
   "source": [
    "from pyspark.ml.classification import DecisionTreeClassifier,RandomForestClassifier\n",
    "from pyspark.ml import Pipeline"
   ]
  },
  {
   "cell_type": "code",
   "execution_count": 82,
   "metadata": {},
   "outputs": [],
   "source": [
    "from pyspark.ml.feature import StringIndexer"
   ]
  },
  {
   "cell_type": "code",
   "execution_count": 83,
   "metadata": {},
   "outputs": [],
   "source": [
    "indexer = StringIndexer(inputCol=\"Recycling System Efficiency\", outputCol=\"Recycling System Efficiency Index\")\n",
    "output_fixed = indexer.fit(output3).transform(output3)"
   ]
  },
  {
   "cell_type": "code",
   "execution_count": 84,
   "metadata": {},
   "outputs": [
    {
     "name": "stdout",
     "output_type": "stream",
     "text": [
      "+---------------------------------+--------------------+\n",
      "|Recycling System Efficiency Index|            features|\n",
      "+---------------------------------+--------------------+\n",
      "|                              0.0|[2016.0,1.0,40.52...|\n",
      "|                              0.0|[2016.0,1.0,28.17...|\n",
      "|                              0.0|[2016.0,1.0,29.01...|\n",
      "|                              0.0|[2016.0,1.0,30.32...|\n",
      "|                              0.0|[2016.0,1.0,21.13...|\n",
      "|                              0.0|[2016.0,1.0,36.11...|\n",
      "|                              0.0|[2016.0,1.0,27.79...|\n",
      "|                              0.0|[2016.0,1.0,21.17...|\n",
      "|                              0.0|[2016.0,1.0,25.28...|\n",
      "|                              1.0|[2016.0,1.0,41.26...|\n",
      "|                              0.0|[2016.0,1.0,36.42...|\n",
      "|                              1.0|[2016.0,1.0,45.89...|\n",
      "|                              0.0|[2016.0,1.0,38.01...|\n",
      "|                              0.0|[2016.0,1.0,42.43...|\n",
      "|                              0.0|[2016.0,1.0,38.53...|\n",
      "|                              0.0|[2016.0,1.0,25.19...|\n",
      "|                              0.0|[2016.0,1.0,40.29...|\n",
      "|                              0.0|[2016.0,1.0,28.43...|\n",
      "|                              0.0|[2016.0,1.0,16.92...|\n",
      "|                              0.0|[2016.0,1.0,32.67...|\n",
      "+---------------------------------+--------------------+\n",
      "only showing top 20 rows\n",
      "\n"
     ]
    }
   ],
   "source": [
    "final_data3 = output_fixed.select('Recycling System Efficiency Index',\"features\")\n",
    "final_data3.show()"
   ]
  },
  {
   "cell_type": "code",
   "execution_count": 85,
   "metadata": {},
   "outputs": [],
   "source": [
    "train_data3,test_data3 = final_data3.randomSplit([0.7,0.3])"
   ]
  },
  {
   "cell_type": "code",
   "execution_count": 86,
   "metadata": {},
   "outputs": [
    {
     "name": "stdout",
     "output_type": "stream",
     "text": [
      "root\n",
      " |-- Recycling System Efficiency Index: double (nullable = true)\n",
      " |-- features: vector (nullable = true)\n",
      "\n"
     ]
    }
   ],
   "source": [
    "train_data3.printSchema()"
   ]
  },
  {
   "cell_type": "code",
   "execution_count": 87,
   "metadata": {},
   "outputs": [],
   "source": [
    "dtc = DecisionTreeClassifier(labelCol='Recycling System Efficiency Index',featuresCol='features')\n",
    "rfc = RandomForestClassifier(labelCol='Recycling System Efficiency Index',featuresCol='features')"
   ]
  },
  {
   "cell_type": "code",
   "execution_count": 88,
   "metadata": {},
   "outputs": [],
   "source": [
    "dtc_model = dtc.fit(train_data3)\n",
    "rfc_model = rfc.fit(train_data3)"
   ]
  },
  {
   "cell_type": "code",
   "execution_count": 90,
   "metadata": {},
   "outputs": [],
   "source": [
    "prediction_dtc = dtc_model.transform(train_data3)\n",
    "prediction_rfc = rfc_model.transform(train_data3)"
   ]
  },
  {
   "cell_type": "code",
   "execution_count": 91,
   "metadata": {},
   "outputs": [
    {
     "name": "stdout",
     "output_type": "stream",
     "text": [
      "+---------------------------------+--------------------+---------------+--------------------+----------+\n",
      "|Recycling System Efficiency Index|            features|  rawPrediction|         probability|prediction|\n",
      "+---------------------------------+--------------------+---------------+--------------------+----------+\n",
      "|                              0.0|[2016.0,1.0,21.17...|[760.0,0.0,0.0]|       [1.0,0.0,0.0]|       0.0|\n",
      "|                              0.0|[2016.0,1.0,25.28...|[760.0,0.0,0.0]|       [1.0,0.0,0.0]|       0.0|\n",
      "|                              0.0|[2016.0,1.0,28.17...|[760.0,0.0,0.0]|       [1.0,0.0,0.0]|       0.0|\n",
      "|                              0.0|[2016.0,1.0,29.01...|[760.0,0.0,0.0]|       [1.0,0.0,0.0]|       0.0|\n",
      "|                              0.0|[2016.0,1.0,36.11...|[760.0,0.0,0.0]|       [1.0,0.0,0.0]|       0.0|\n",
      "|                              0.0|[2016.0,1.0,36.42...|[760.0,0.0,0.0]|       [1.0,0.0,0.0]|       0.0|\n",
      "|                              0.0|[2016.0,1.0,38.01...|[760.0,0.0,0.0]|       [1.0,0.0,0.0]|       0.0|\n",
      "|                              0.0|[2016.0,1.0,40.52...|[760.0,0.0,0.0]|       [1.0,0.0,0.0]|       0.0|\n",
      "|                              1.0|[2016.0,1.0,41.26...|[0.0,626.0,0.0]|       [0.0,1.0,0.0]|       1.0|\n",
      "|                              1.0|[2016.0,1.0,45.89...|[0.0,626.0,0.0]|       [0.0,1.0,0.0]|       1.0|\n",
      "|                              0.0|[2016.0,1.0,20.76...|[760.0,0.0,0.0]|       [1.0,0.0,0.0]|       0.0|\n",
      "|                              0.0|[2016.0,1.0,24.45...|[760.0,0.0,0.0]|       [1.0,0.0,0.0]|       0.0|\n",
      "|                              0.0|[2016.0,1.0,25.06...|[760.0,0.0,0.0]|       [1.0,0.0,0.0]|       0.0|\n",
      "|                              0.0|[2016.0,1.0,25.19...|[760.0,0.0,0.0]|       [1.0,0.0,0.0]|       0.0|\n",
      "|                              0.0|[2016.0,1.0,28.43...|[760.0,0.0,0.0]|       [1.0,0.0,0.0]|       0.0|\n",
      "|                              0.0|[2016.0,1.0,34.98...|[760.0,0.0,0.0]|       [1.0,0.0,0.0]|       0.0|\n",
      "|                              0.0|[2016.0,1.0,37.62...|[760.0,0.0,0.0]|       [1.0,0.0,0.0]|       0.0|\n",
      "|                              0.0|[2016.0,1.0,38.81...|[760.0,0.0,0.0]|       [1.0,0.0,0.0]|       0.0|\n",
      "|                              1.0|[2016.0,1.0,38.78...|  [0.0,3.0,0.0]|       [0.0,1.0,0.0]|       1.0|\n",
      "|                              2.0|[2016.0,1.0,31.14...|[0.0,0.0,148.0]|       [0.0,0.0,1.0]|       2.0|\n",
      "|                              2.0|[2016.0,1.0,33.56...|[0.0,0.0,148.0]|       [0.0,0.0,1.0]|       2.0|\n",
      "|                              2.0|[2016.0,1.0,34.29...|[0.0,0.0,148.0]|       [0.0,0.0,1.0]|       2.0|\n",
      "|                              2.0|[2016.0,1.0,42.73...|[0.0,0.0,296.0]|       [0.0,0.0,1.0]|       2.0|\n",
      "|                              0.0|[2016.0,1.0,28.06...|[760.0,0.0,0.0]|       [1.0,0.0,0.0]|       0.0|\n",
      "|                              1.0|[2016.0,1.0,35.17...|[0.0,626.0,0.0]|       [0.0,1.0,0.0]|       1.0|\n",
      "|                              1.0|[2016.0,1.0,45.52...|[0.0,626.0,0.0]|       [0.0,1.0,0.0]|       1.0|\n",
      "|                              1.0|[2016.0,1.0,47.22...|[0.0,626.0,0.0]|       [0.0,1.0,0.0]|       1.0|\n",
      "|                              1.0|[2016.0,1.0,51.04...|[0.0,626.0,0.0]|       [0.0,1.0,0.0]|       1.0|\n",
      "|                              2.0|[2016.0,1.0,30.56...|[0.0,0.0,148.0]|       [0.0,0.0,1.0]|       2.0|\n",
      "|                              2.0|[2016.0,1.0,33.55...|[14.0,0.0,23.0]|[0.37837837837837...|       2.0|\n",
      "+---------------------------------+--------------------+---------------+--------------------+----------+\n",
      "only showing top 30 rows\n",
      "\n"
     ]
    }
   ],
   "source": [
    "prediction_dtc.show(30)"
   ]
  },
  {
   "cell_type": "code",
   "execution_count": 92,
   "metadata": {},
   "outputs": [
    {
     "name": "stdout",
     "output_type": "stream",
     "text": [
      "+---------------------------------+--------------------+--------------------+--------------------+----------+\n",
      "|Recycling System Efficiency Index|            features|       rawPrediction|         probability|prediction|\n",
      "+---------------------------------+--------------------+--------------------+--------------------+----------+\n",
      "|                              0.0|[2016.0,1.0,21.17...|      [20.0,0.0,0.0]|       [1.0,0.0,0.0]|       0.0|\n",
      "|                              0.0|[2016.0,1.0,25.28...|[19.9849246231155...|[0.99924623115577...|       0.0|\n",
      "|                              0.0|[2016.0,1.0,28.17...|      [20.0,0.0,0.0]|       [1.0,0.0,0.0]|       0.0|\n",
      "|                              0.0|[2016.0,1.0,29.01...|      [20.0,0.0,0.0]|       [1.0,0.0,0.0]|       0.0|\n",
      "|                              0.0|[2016.0,1.0,36.11...|[19.9873417721519...|[0.99936708860759...|       0.0|\n",
      "|                              0.0|[2016.0,1.0,36.42...|[19.7564445932373...|[0.98782222966186...|       0.0|\n",
      "|                              0.0|[2016.0,1.0,38.01...|[19.7758620689655...|[0.98879310344827...|       0.0|\n",
      "|                              0.0|[2016.0,1.0,40.52...|[19.9607930995855...|[0.99803965497927...|       0.0|\n",
      "|                              1.0|[2016.0,1.0,41.26...|[0.0,19.991228070...|[0.0,0.9995614035...|       1.0|\n",
      "|                              1.0|[2016.0,1.0,45.89...|      [0.0,20.0,0.0]|       [0.0,1.0,0.0]|       1.0|\n",
      "|                              0.0|[2016.0,1.0,20.76...|      [20.0,0.0,0.0]|       [1.0,0.0,0.0]|       0.0|\n",
      "|                              0.0|[2016.0,1.0,24.45...|      [20.0,0.0,0.0]|       [1.0,0.0,0.0]|       0.0|\n",
      "|                              0.0|[2016.0,1.0,25.06...|      [20.0,0.0,0.0]|       [1.0,0.0,0.0]|       0.0|\n",
      "|                              0.0|[2016.0,1.0,25.19...|      [20.0,0.0,0.0]|       [1.0,0.0,0.0]|       0.0|\n",
      "|                              0.0|[2016.0,1.0,28.43...|[19.9528489195393...|[0.99764244597696...|       0.0|\n",
      "|                              0.0|[2016.0,1.0,34.98...|[18.9231112599040...|[0.94615556299520...|       0.0|\n",
      "|                              0.0|[2016.0,1.0,37.62...|[19.9734513274336...|[0.99867256637168...|       0.0|\n",
      "|                              0.0|[2016.0,1.0,38.81...|[19.7758620689655...|[0.98879310344827...|       0.0|\n",
      "|                              1.0|[2016.0,1.0,38.78...|[0.61904761904761...|[0.03095238095238...|       1.0|\n",
      "|                              2.0|[2016.0,1.0,31.14...|      [0.0,0.0,20.0]|       [0.0,0.0,1.0]|       2.0|\n",
      "|                              2.0|[2016.0,1.0,33.56...|[0.0,0.2800223360...|[0.0,0.0140011168...|       2.0|\n",
      "|                              2.0|[2016.0,1.0,34.29...|      [0.0,3.0,17.0]|     [0.0,0.15,0.85]|       2.0|\n",
      "|                              2.0|[2016.0,1.0,42.73...|[0.06908666878681...|[0.00345433343934...|       2.0|\n",
      "|                              0.0|[2016.0,1.0,28.06...|      [20.0,0.0,0.0]|       [1.0,0.0,0.0]|       0.0|\n",
      "|                              1.0|[2016.0,1.0,35.17...|[0.0,19.162790697...|[0.0,0.9581395348...|       1.0|\n",
      "|                              1.0|[2016.0,1.0,45.52...|      [0.0,20.0,0.0]|       [0.0,1.0,0.0]|       1.0|\n",
      "|                              1.0|[2016.0,1.0,47.22...|      [0.0,20.0,0.0]|       [0.0,1.0,0.0]|       1.0|\n",
      "|                              1.0|[2016.0,1.0,51.04...|      [0.0,20.0,0.0]|       [0.0,1.0,0.0]|       1.0|\n",
      "|                              2.0|[2016.0,1.0,30.56...|      [0.0,0.0,20.0]|       [0.0,0.0,1.0]|       2.0|\n",
      "|                              2.0|[2016.0,1.0,33.55...|[3.74783906255239...|[0.18739195312761...|       2.0|\n",
      "+---------------------------------+--------------------+--------------------+--------------------+----------+\n",
      "only showing top 30 rows\n",
      "\n"
     ]
    }
   ],
   "source": [
    "prediction_rfc.show(30)"
   ]
  },
  {
   "cell_type": "code",
   "execution_count": 93,
   "metadata": {},
   "outputs": [],
   "source": [
    "from pyspark.ml.evaluation import MulticlassClassificationEvaluator"
   ]
  },
  {
   "cell_type": "code",
   "execution_count": 94,
   "metadata": {},
   "outputs": [],
   "source": [
    "acc_evaluator = MulticlassClassificationEvaluator(labelCol=\"Recycling System Efficiency Index\", predictionCol=\"prediction\", metricName=\"accuracy\")"
   ]
  },
  {
   "cell_type": "code",
   "execution_count": 95,
   "metadata": {},
   "outputs": [],
   "source": [
    "dtc_acc = acc_evaluator.evaluate(prediction_dtc)\n",
    "rfc_acc = acc_evaluator.evaluate(prediction_rfc)"
   ]
  },
  {
   "cell_type": "code",
   "execution_count": 96,
   "metadata": {},
   "outputs": [
    {
     "name": "stdout",
     "output_type": "stream",
     "text": [
      "Here are the results!\n",
      "----------------------------------------\n",
      "A single decision tree has an accuracy of: 99.02%\n",
      "----------------------------------------\n",
      "A random forest ensemble has an accuracy of: 99.28%\n",
      "----------------------------------------\n"
     ]
    }
   ],
   "source": [
    "print(\"Here are the results!\")\n",
    "print('-'*40)\n",
    "print('A single decision tree has an accuracy of: {0:2.2f}%'.format(dtc_acc*100))\n",
    "print('-'*40)\n",
    "print('A random forest ensemble has an accuracy of: {0:2.2f}%'.format(rfc_acc*100))\n",
    "print('-'*40)"
   ]
  },
  {
   "cell_type": "code",
   "execution_count": 97,
   "metadata": {},
   "outputs": [],
   "source": [
    "assembler4 = VectorAssembler(\n",
    "    inputCols=[\"Capture Rate-Paper \",\n",
    "               \"Capture Rate-MGP\",\n",
    "               \"Capture Rate-Total\"],\n",
    "    outputCol=\"features\")"
   ]
  },
  {
   "cell_type": "code",
   "execution_count": 98,
   "metadata": {},
   "outputs": [],
   "source": [
    "output4 = assembler4.transform(RecyclingRatesEdited)"
   ]
  },
  {
   "cell_type": "code",
   "execution_count": 99,
   "metadata": {},
   "outputs": [
    {
     "name": "stdout",
     "output_type": "stream",
     "text": [
      "root\n",
      " |-- Zone: string (nullable = true)\n",
      " |-- District: string (nullable = true)\n",
      " |-- Year: integer (nullable = true)\n",
      " |-- Month: integer (nullable = true)\n",
      " |-- Capture Rate-Paper : double (nullable = true)\n",
      " |-- Capture Rate-MGP: double (nullable = true)\n",
      " |-- Capture Rate-Total: double (nullable = true)\n",
      " |-- Diversion Rate-Total: double (nullable = true)\n",
      " |-- Diversion Rate-Total LOG: double (nullable = true)\n",
      " |-- Recycling System Efficiency: string (nullable = false)\n",
      " |-- features: vector (nullable = true)\n",
      "\n"
     ]
    }
   ],
   "source": [
    "output4.printSchema()"
   ]
  },
  {
   "cell_type": "code",
   "execution_count": 100,
   "metadata": {},
   "outputs": [
    {
     "name": "stdout",
     "output_type": "stream",
     "text": [
      "+-------------------+--------------------+\n",
      "|           features|Diversion Rate-Total|\n",
      "+-------------------+--------------------+\n",
      "|[40.52,42.37,41.28]|               14.14|\n",
      "|[28.17,49.98,34.37]|               17.68|\n",
      "|[29.01,36.25,31.98]|               10.58|\n",
      "| [30.32,55.0,40.43]|               13.46|\n",
      "|[21.13,35.87,27.17]|                9.13|\n",
      "| [36.11,46.3,40.29]|               14.71|\n",
      "|[27.79,38.91,31.84]|               11.92|\n",
      "|[21.17,31.44,25.37]|                 8.3|\n",
      "|[25.28,52.95,35.35]|               13.02|\n",
      "|[41.26,75.03,50.85]|                29.6|\n",
      "|[36.42,59.69,44.89]|               18.66|\n",
      "| [45.89,65.15,52.9]|               23.34|\n",
      "|[38.01,53.78,43.75]|               15.93|\n",
      "|[42.43,35.92,39.76]|               12.66|\n",
      "| [38.53,44.68,41.3]|               12.95|\n",
      "|[25.19,44.34,31.18]|               12.98|\n",
      "| [40.29,51.85,44.5]|               16.74|\n",
      "|[28.43,54.67,36.82]|               14.58|\n",
      "|[16.92,20.41,18.49]|                5.94|\n",
      "| [32.67,52.1,41.41]|               13.37|\n",
      "+-------------------+--------------------+\n",
      "only showing top 20 rows\n",
      "\n"
     ]
    }
   ],
   "source": [
    "final_data4 = output4.select(\"features\",'Diversion Rate-Total')\n",
    "final_data4.show()"
   ]
  },
  {
   "cell_type": "code",
   "execution_count": 101,
   "metadata": {},
   "outputs": [],
   "source": [
    "train_data4,test_data4 = final_data4.randomSplit([0.7,0.3])"
   ]
  },
  {
   "cell_type": "code",
   "execution_count": 102,
   "metadata": {},
   "outputs": [],
   "source": [
    "lr4 = LinearRegression(labelCol='Diversion Rate-Total')"
   ]
  },
  {
   "cell_type": "code",
   "execution_count": 103,
   "metadata": {},
   "outputs": [],
   "source": [
    "lrModel4 = lr4.fit(train_data4)"
   ]
  },
  {
   "cell_type": "code",
   "execution_count": 104,
   "metadata": {},
   "outputs": [
    {
     "name": "stdout",
     "output_type": "stream",
     "text": [
      "Coefficients: [0.916403284391347,0.5683300226952793,-1.126178106054306] Intercept: -0.5280170373341281\n"
     ]
    }
   ],
   "source": [
    "print(\"Coefficients: {} Intercept: {}\".format(lrModel4.coefficients,lrModel4.intercept))"
   ]
  },
  {
   "cell_type": "code",
   "execution_count": null,
   "metadata": {},
   "outputs": [],
   "source": [
    "test_results4 = lrModel4.evaluate(test_data4)"
   ]
  },
  {
   "cell_type": "code",
   "execution_count": null,
   "metadata": {},
   "outputs": [],
   "source": []
  }
 ],
 "metadata": {
  "kernelspec": {
   "display_name": "Python 3",
   "language": "python",
   "name": "python3"
  },
  "language_info": {
   "codemirror_mode": {
    "name": "ipython",
    "version": 3
   },
   "file_extension": ".py",
   "mimetype": "text/x-python",
   "name": "python",
   "nbconvert_exporter": "python",
   "pygments_lexer": "ipython3",
   "version": "3.5.2"
  }
 },
 "nbformat": 4,
 "nbformat_minor": 2
}
